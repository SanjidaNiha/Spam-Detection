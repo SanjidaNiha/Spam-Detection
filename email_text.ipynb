{
 "cells": [
  {
   "cell_type": "code",
   "execution_count": 1,
   "id": "babb1214",
   "metadata": {},
   "outputs": [],
   "source": [
    "import numpy as np\n",
    "import pandas as pd\n"
   ]
  },
  {
   "cell_type": "code",
   "execution_count": 2,
   "id": "1d150068",
   "metadata": {},
   "outputs": [],
   "source": [
    "import pandas as pd\n",
    "\n",
    "\n",
    "encodings = ['utf-8', 'latin1', 'utf-16']\n",
    "for encoding in encodings:\n",
    "    try:\n",
    "        df = pd.read_csv('email_text.csv', encoding=encoding)\n",
    "        break\n",
    "    except UnicodeDecodeError:\n",
    "        pass\n"
   ]
  },
  {
   "cell_type": "markdown",
   "id": "c58b9d17",
   "metadata": {},
   "source": [
    "the basic dataframe line kept giving errors so, tried this code segment after google research which worked. "
   ]
  },
  {
   "cell_type": "code",
   "execution_count": 3,
   "id": "e4463b3f",
   "metadata": {},
   "outputs": [
    {
     "data": {
      "text/html": [
       "<div>\n",
       "<style scoped>\n",
       "    .dataframe tbody tr th:only-of-type {\n",
       "        vertical-align: middle;\n",
       "    }\n",
       "\n",
       "    .dataframe tbody tr th {\n",
       "        vertical-align: top;\n",
       "    }\n",
       "\n",
       "    .dataframe thead th {\n",
       "        text-align: right;\n",
       "    }\n",
       "</style>\n",
       "<table border=\"1\" class=\"dataframe\">\n",
       "  <thead>\n",
       "    <tr style=\"text-align: right;\">\n",
       "      <th></th>\n",
       "      <th>label</th>\n",
       "      <th>text</th>\n",
       "    </tr>\n",
       "  </thead>\n",
       "  <tbody>\n",
       "    <tr>\n",
       "      <th>16735</th>\n",
       "      <td>0</td>\n",
       "      <td>&gt; Date: Tue May escapenumber escapenumber:esca...</td>\n",
       "    </tr>\n",
       "    <tr>\n",
       "      <th>46042</th>\n",
       "      <td>1</td>\n",
       "      <td>Paradise is here! Our casino paradise is lined...</td>\n",
       "    </tr>\n",
       "    <tr>\n",
       "      <th>12546</th>\n",
       "      <td>1</td>\n",
       "      <td>Anatrim =escapenumber The very up-to-date and ...</td>\n",
       "    </tr>\n",
       "    <tr>\n",
       "      <th>5701</th>\n",
       "      <td>1</td>\n",
       "      <td>This one is hardly promoted Special Situation ...</td>\n",
       "    </tr>\n",
       "    <tr>\n",
       "      <th>40876</th>\n",
       "      <td>0</td>\n",
       "      <td>Hart said: the IBM TTS which sounds like eliqu...</td>\n",
       "    </tr>\n",
       "  </tbody>\n",
       "</table>\n",
       "</div>"
      ],
      "text/plain": [
       "       label                                               text\n",
       "16735      0  > Date: Tue May escapenumber escapenumber:esca...\n",
       "46042      1  Paradise is here! Our casino paradise is lined...\n",
       "12546      1  Anatrim =escapenumber The very up-to-date and ...\n",
       "5701       1  This one is hardly promoted Special Situation ...\n",
       "40876      0  Hart said: the IBM TTS which sounds like eliqu..."
      ]
     },
     "execution_count": 3,
     "metadata": {},
     "output_type": "execute_result"
    }
   ],
   "source": [
    "df.sample(5)\n"
   ]
  },
  {
   "cell_type": "markdown",
   "id": "50d032b2",
   "metadata": {},
   "source": []
  },
  {
   "cell_type": "code",
   "execution_count": 4,
   "id": "e1b98fca",
   "metadata": {},
   "outputs": [
    {
     "data": {
      "text/plain": [
       "(53998, 2)"
      ]
     },
     "execution_count": 4,
     "metadata": {},
     "output_type": "execute_result"
    }
   ],
   "source": [
    "df.shape"
   ]
  },
  {
   "cell_type": "markdown",
   "id": "739e608d",
   "metadata": {},
   "source": [
    "#  1. Data Cleaning"
   ]
  },
  {
   "cell_type": "code",
   "execution_count": 5,
   "id": "089a188d",
   "metadata": {},
   "outputs": [
    {
     "name": "stdout",
     "output_type": "stream",
     "text": [
      "<class 'pandas.core.frame.DataFrame'>\n",
      "RangeIndex: 53998 entries, 0 to 53997\n",
      "Data columns (total 2 columns):\n",
      " #   Column  Non-Null Count  Dtype \n",
      "---  ------  --------------  ----- \n",
      " 0   label   53998 non-null  int64 \n",
      " 1   text    53998 non-null  object\n",
      "dtypes: int64(1), object(1)\n",
      "memory usage: 843.8+ KB\n"
     ]
    }
   ],
   "source": [
    "df.info()"
   ]
  },
  {
   "cell_type": "markdown",
   "id": "a661772a",
   "metadata": {},
   "source": [
    "Drop the unnecessary columns"
   ]
  },
  {
   "cell_type": "code",
   "execution_count": null,
   "id": "2e489919",
   "metadata": {},
   "outputs": [],
   "source": []
  },
  {
   "cell_type": "code",
   "execution_count": null,
   "id": "12ef12de",
   "metadata": {},
   "outputs": [],
   "source": []
  },
  {
   "cell_type": "markdown",
   "id": "f5aa8e30",
   "metadata": {},
   "source": [
    "Renaming the cols"
   ]
  },
  {
   "cell_type": "code",
   "execution_count": 6,
   "id": "345e5f3a",
   "metadata": {},
   "outputs": [],
   "source": [
    "df.rename(columns={'label':'prediction','text':'text'},inplace=True)"
   ]
  },
  {
   "cell_type": "code",
   "execution_count": 7,
   "id": "164b98e2",
   "metadata": {},
   "outputs": [
    {
     "data": {
      "text/html": [
       "<div>\n",
       "<style scoped>\n",
       "    .dataframe tbody tr th:only-of-type {\n",
       "        vertical-align: middle;\n",
       "    }\n",
       "\n",
       "    .dataframe tbody tr th {\n",
       "        vertical-align: top;\n",
       "    }\n",
       "\n",
       "    .dataframe thead th {\n",
       "        text-align: right;\n",
       "    }\n",
       "</style>\n",
       "<table border=\"1\" class=\"dataframe\">\n",
       "  <thead>\n",
       "    <tr style=\"text-align: right;\">\n",
       "      <th></th>\n",
       "      <th>prediction</th>\n",
       "      <th>text</th>\n",
       "    </tr>\n",
       "  </thead>\n",
       "  <tbody>\n",
       "    <tr>\n",
       "      <th>6855</th>\n",
       "      <td>0</td>\n",
       "      <td>Dear all as usual I am again lost in virtues o...</td>\n",
       "    </tr>\n",
       "    <tr>\n",
       "      <th>21420</th>\n",
       "      <td>0</td>\n",
       "      <td>Thursday, May escapenumber, escapenumber Watch...</td>\n",
       "    </tr>\n",
       "    <tr>\n",
       "      <th>52444</th>\n",
       "      <td>0</td>\n",
       "      <td>In message &lt;escapenumberAescapenumberEescapenu...</td>\n",
       "    </tr>\n",
       "    <tr>\n",
       "      <th>7993</th>\n",
       "      <td>1</td>\n",
       "      <td>Does Size Matter? ---- escapenumber% of WOMEN ...</td>\n",
       "    </tr>\n",
       "    <tr>\n",
       "      <th>28480</th>\n",
       "      <td>0</td>\n",
       "      <td>\"Wesley J. Landaker\" writes: &gt; On Tuesday esca...</td>\n",
       "    </tr>\n",
       "  </tbody>\n",
       "</table>\n",
       "</div>"
      ],
      "text/plain": [
       "       prediction                                               text\n",
       "6855            0  Dear all as usual I am again lost in virtues o...\n",
       "21420           0  Thursday, May escapenumber, escapenumber Watch...\n",
       "52444           0  In message <escapenumberAescapenumberEescapenu...\n",
       "7993            1  Does Size Matter? ---- escapenumber% of WOMEN ...\n",
       "28480           0  \"Wesley J. Landaker\" writes: > On Tuesday esca..."
      ]
     },
     "execution_count": 7,
     "metadata": {},
     "output_type": "execute_result"
    }
   ],
   "source": [
    "df.sample(5)"
   ]
  },
  {
   "cell_type": "code",
   "execution_count": 8,
   "id": "4f847449",
   "metadata": {},
   "outputs": [
    {
     "data": {
      "text/html": [
       "<div>\n",
       "<style scoped>\n",
       "    .dataframe tbody tr th:only-of-type {\n",
       "        vertical-align: middle;\n",
       "    }\n",
       "\n",
       "    .dataframe tbody tr th {\n",
       "        vertical-align: top;\n",
       "    }\n",
       "\n",
       "    .dataframe thead th {\n",
       "        text-align: right;\n",
       "    }\n",
       "</style>\n",
       "<table border=\"1\" class=\"dataframe\">\n",
       "  <thead>\n",
       "    <tr style=\"text-align: right;\">\n",
       "      <th></th>\n",
       "      <th>prediction</th>\n",
       "      <th>text</th>\n",
       "    </tr>\n",
       "  </thead>\n",
       "  <tbody>\n",
       "    <tr>\n",
       "      <th>0</th>\n",
       "      <td>1</td>\n",
       "      <td>Do you feel the pressure to perform and not ri...</td>\n",
       "    </tr>\n",
       "    <tr>\n",
       "      <th>1</th>\n",
       "      <td>0</td>\n",
       "      <td>Hi, i've just updated from the gulus and I che...</td>\n",
       "    </tr>\n",
       "    <tr>\n",
       "      <th>2</th>\n",
       "      <td>1</td>\n",
       "      <td>Mega authenticV I A G R A $ DISCOUNT priceC I ...</td>\n",
       "    </tr>\n",
       "    <tr>\n",
       "      <th>3</th>\n",
       "      <td>1</td>\n",
       "      <td>Hey Billy, it was really fun going out the oth...</td>\n",
       "    </tr>\n",
       "    <tr>\n",
       "      <th>4</th>\n",
       "      <td>1</td>\n",
       "      <td>system\" of the home. It will have the capabili...</td>\n",
       "    </tr>\n",
       "  </tbody>\n",
       "</table>\n",
       "</div>"
      ],
      "text/plain": [
       "   prediction                                               text\n",
       "0           1  Do you feel the pressure to perform and not ri...\n",
       "1           0  Hi, i've just updated from the gulus and I che...\n",
       "2           1  Mega authenticV I A G R A $ DISCOUNT priceC I ...\n",
       "3           1  Hey Billy, it was really fun going out the oth...\n",
       "4           1  system\" of the home. It will have the capabili..."
      ]
     },
     "execution_count": 8,
     "metadata": {},
     "output_type": "execute_result"
    }
   ],
   "source": [
    "from sklearn.preprocessing import LabelEncoder\n",
    "encoder = LabelEncoder()\n",
    "df['prediction'] = encoder.fit_transform(df['prediction'])\n",
    "df.head()"
   ]
  },
  {
   "cell_type": "markdown",
   "id": "ffa1f923",
   "metadata": {},
   "source": [
    "Missing value check"
   ]
  },
  {
   "cell_type": "code",
   "execution_count": 9,
   "id": "25269163",
   "metadata": {},
   "outputs": [
    {
     "data": {
      "text/plain": [
       "prediction    0\n",
       "text          0\n",
       "dtype: int64"
      ]
     },
     "execution_count": 9,
     "metadata": {},
     "output_type": "execute_result"
    }
   ],
   "source": [
    "df.isnull().sum()"
   ]
  },
  {
   "cell_type": "markdown",
   "id": "4212aa04",
   "metadata": {},
   "source": [
    "Duplicate value check"
   ]
  },
  {
   "cell_type": "code",
   "execution_count": 10,
   "id": "d2866f15",
   "metadata": {},
   "outputs": [
    {
     "data": {
      "text/plain": [
       "0"
      ]
     },
     "execution_count": 10,
     "metadata": {},
     "output_type": "execute_result"
    }
   ],
   "source": [
    "df.duplicated().sum()"
   ]
  },
  {
   "cell_type": "code",
   "execution_count": null,
   "id": "0f7f8ca8",
   "metadata": {},
   "outputs": [],
   "source": []
  },
  {
   "cell_type": "code",
   "execution_count": 11,
   "id": "0b755627",
   "metadata": {},
   "outputs": [
    {
     "data": {
      "text/plain": [
       "(53998, 2)"
      ]
     },
     "execution_count": 11,
     "metadata": {},
     "output_type": "execute_result"
    }
   ],
   "source": [
    "df.shape"
   ]
  },
  {
   "cell_type": "markdown",
   "id": "ad16fe1c",
   "metadata": {},
   "source": [
    "## 2. EDA"
   ]
  },
  {
   "cell_type": "code",
   "execution_count": 12,
   "id": "4f22ed98",
   "metadata": {},
   "outputs": [
    {
     "data": {
      "text/html": [
       "<div>\n",
       "<style scoped>\n",
       "    .dataframe tbody tr th:only-of-type {\n",
       "        vertical-align: middle;\n",
       "    }\n",
       "\n",
       "    .dataframe tbody tr th {\n",
       "        vertical-align: top;\n",
       "    }\n",
       "\n",
       "    .dataframe thead th {\n",
       "        text-align: right;\n",
       "    }\n",
       "</style>\n",
       "<table border=\"1\" class=\"dataframe\">\n",
       "  <thead>\n",
       "    <tr style=\"text-align: right;\">\n",
       "      <th></th>\n",
       "      <th>prediction</th>\n",
       "      <th>text</th>\n",
       "    </tr>\n",
       "  </thead>\n",
       "  <tbody>\n",
       "    <tr>\n",
       "      <th>0</th>\n",
       "      <td>1</td>\n",
       "      <td>Do you feel the pressure to perform and not ri...</td>\n",
       "    </tr>\n",
       "    <tr>\n",
       "      <th>1</th>\n",
       "      <td>0</td>\n",
       "      <td>Hi, i've just updated from the gulus and I che...</td>\n",
       "    </tr>\n",
       "    <tr>\n",
       "      <th>2</th>\n",
       "      <td>1</td>\n",
       "      <td>Mega authenticV I A G R A $ DISCOUNT priceC I ...</td>\n",
       "    </tr>\n",
       "    <tr>\n",
       "      <th>3</th>\n",
       "      <td>1</td>\n",
       "      <td>Hey Billy, it was really fun going out the oth...</td>\n",
       "    </tr>\n",
       "    <tr>\n",
       "      <th>4</th>\n",
       "      <td>1</td>\n",
       "      <td>system\" of the home. It will have the capabili...</td>\n",
       "    </tr>\n",
       "  </tbody>\n",
       "</table>\n",
       "</div>"
      ],
      "text/plain": [
       "   prediction                                               text\n",
       "0           1  Do you feel the pressure to perform and not ri...\n",
       "1           0  Hi, i've just updated from the gulus and I che...\n",
       "2           1  Mega authenticV I A G R A $ DISCOUNT priceC I ...\n",
       "3           1  Hey Billy, it was really fun going out the oth...\n",
       "4           1  system\" of the home. It will have the capabili..."
      ]
     },
     "execution_count": 12,
     "metadata": {},
     "output_type": "execute_result"
    }
   ],
   "source": [
    "df.head()"
   ]
  },
  {
   "cell_type": "code",
   "execution_count": 13,
   "id": "a119e73f",
   "metadata": {},
   "outputs": [
    {
     "data": {
      "text/plain": [
       "prediction\n",
       "1    30233\n",
       "0    23765\n",
       "Name: count, dtype: int64"
      ]
     },
     "execution_count": 13,
     "metadata": {},
     "output_type": "execute_result"
    }
   ],
   "source": [
    "df['prediction'].value_counts()"
   ]
  },
  {
   "cell_type": "code",
   "execution_count": 14,
   "id": "918008a1",
   "metadata": {},
   "outputs": [
    {
     "data": {
      "image/png": "[encoded data removed]",
      "text/plain": [
       "<Figure size 640x480 with 1 Axes>"
      ]
     },
     "metadata": {},
     "output_type": "display_data"
    }
   ],
   "source": [
    "import matplotlib.pyplot as plt\n",
    "plt.pie(df['prediction'].value_counts(), labels=['ham','spam'],autopct=\"%0.2f\")\n",
    "plt.show()"
   ]
  },
  {
   "cell_type": "markdown",
   "id": "23be8842",
   "metadata": {},
   "source": []
  },
  {
   "cell_type": "code",
   "execution_count": 15,
   "id": "188bfc1e",
   "metadata": {},
   "outputs": [],
   "source": [
    "import nltk\n"
   ]
  },
  {
   "cell_type": "code",
   "execution_count": null,
   "id": "e2bce112",
   "metadata": {},
   "outputs": [],
   "source": []
  },
  {
   "cell_type": "code",
   "execution_count": 16,
   "id": "b356d895",
   "metadata": {},
   "outputs": [
    {
     "name": "stdout",
     "output_type": "stream",
     "text": [
      "Requirement already satisfied: nltk in c:\\programdata\\anaconda3\\lib\\site-packages (3.8.1)\n",
      "Requirement already satisfied: click in c:\\programdata\\anaconda3\\lib\\site-packages (from nltk) (8.0.4)\n",
      "Requirement already satisfied: joblib in c:\\programdata\\anaconda3\\lib\\site-packages (from nltk) (1.2.0)\n",
      "Requirement already satisfied: regex>=2021.8.3 in c:\\programdata\\anaconda3\\lib\\site-packages (from nltk) (2022.7.9)\n",
      "Requirement already satisfied: tqdm in c:\\programdata\\anaconda3\\lib\\site-packages (from nltk) (4.65.0)\n",
      "Requirement already satisfied: colorama in c:\\programdata\\anaconda3\\lib\\site-packages (from click->nltk) (0.4.6)\n"
     ]
    }
   ],
   "source": [
    "!pip install nltk"
   ]
  },
  {
   "cell_type": "code",
   "execution_count": 18,
   "id": "db15a1c8",
   "metadata": {},
   "outputs": [
    {
     "name": "stderr",
     "output_type": "stream",
     "text": [
      "[nltk_data] Downloading package punkt to\n",
      "[nltk_data]     C:\\Users\\Dynamic_Computer\\AppData\\Roaming\\nltk_data...\n",
      "[nltk_data]   Package punkt is already up-to-date!\n"
     ]
    },
    {
     "data": {
      "text/plain": [
       "True"
      ]
     },
     "execution_count": 18,
     "metadata": {},
     "output_type": "execute_result"
    }
   ],
   "source": [
    "nltk.download('punkt')"
   ]
  },
  {
   "cell_type": "code",
   "execution_count": 19,
   "id": "d5dca54d",
   "metadata": {},
   "outputs": [],
   "source": [
    "df['characters'] = df['text'].apply(len)"
   ]
  },
  {
   "cell_type": "code",
   "execution_count": 20,
   "id": "1be66bfc",
   "metadata": {},
   "outputs": [
    {
     "data": {
      "text/html": [
       "<div>\n",
       "<style scoped>\n",
       "    .dataframe tbody tr th:only-of-type {\n",
       "        vertical-align: middle;\n",
       "    }\n",
       "\n",
       "    .dataframe tbody tr th {\n",
       "        vertical-align: top;\n",
       "    }\n",
       "\n",
       "    .dataframe thead th {\n",
       "        text-align: right;\n",
       "    }\n",
       "</style>\n",
       "<table border=\"1\" class=\"dataframe\">\n",
       "  <thead>\n",
       "    <tr style=\"text-align: right;\">\n",
       "      <th></th>\n",
       "      <th>prediction</th>\n",
       "      <th>text</th>\n",
       "      <th>characters</th>\n",
       "    </tr>\n",
       "  </thead>\n",
       "  <tbody>\n",
       "    <tr>\n",
       "      <th>0</th>\n",
       "      <td>1</td>\n",
       "      <td>Do you feel the pressure to perform and not ri...</td>\n",
       "      <td>168</td>\n",
       "    </tr>\n",
       "    <tr>\n",
       "      <th>1</th>\n",
       "      <td>0</td>\n",
       "      <td>Hi, i've just updated from the gulus and I che...</td>\n",
       "      <td>741</td>\n",
       "    </tr>\n",
       "    <tr>\n",
       "      <th>2</th>\n",
       "      <td>1</td>\n",
       "      <td>Mega authenticV I A G R A $ DISCOUNT priceC I ...</td>\n",
       "      <td>124</td>\n",
       "    </tr>\n",
       "    <tr>\n",
       "      <th>3</th>\n",
       "      <td>1</td>\n",
       "      <td>Hey Billy, it was really fun going out the oth...</td>\n",
       "      <td>672</td>\n",
       "    </tr>\n",
       "    <tr>\n",
       "      <th>4</th>\n",
       "      <td>1</td>\n",
       "      <td>system\" of the home. It will have the capabili...</td>\n",
       "      <td>2545</td>\n",
       "    </tr>\n",
       "  </tbody>\n",
       "</table>\n",
       "</div>"
      ],
      "text/plain": [
       "   prediction                                               text  characters\n",
       "0           1  Do you feel the pressure to perform and not ri...         168\n",
       "1           0  Hi, i've just updated from the gulus and I che...         741\n",
       "2           1  Mega authenticV I A G R A $ DISCOUNT priceC I ...         124\n",
       "3           1  Hey Billy, it was really fun going out the oth...         672\n",
       "4           1  system\" of the home. It will have the capabili...        2545"
      ]
     },
     "execution_count": 20,
     "metadata": {},
     "output_type": "execute_result"
    }
   ],
   "source": [
    "df.head()"
   ]
  },
  {
   "cell_type": "code",
   "execution_count": 21,
   "id": "7535bcd7",
   "metadata": {},
   "outputs": [],
   "source": [
    "\n",
    "df['words'] = df['text'].apply(lambda x:len(nltk.word_tokenize(x)))"
   ]
  },
  {
   "cell_type": "code",
   "execution_count": 22,
   "id": "6f1330d4",
   "metadata": {},
   "outputs": [
    {
     "data": {
      "text/html": [
       "<div>\n",
       "<style scoped>\n",
       "    .dataframe tbody tr th:only-of-type {\n",
       "        vertical-align: middle;\n",
       "    }\n",
       "\n",
       "    .dataframe tbody tr th {\n",
       "        vertical-align: top;\n",
       "    }\n",
       "\n",
       "    .dataframe thead th {\n",
       "        text-align: right;\n",
       "    }\n",
       "</style>\n",
       "<table border=\"1\" class=\"dataframe\">\n",
       "  <thead>\n",
       "    <tr style=\"text-align: right;\">\n",
       "      <th></th>\n",
       "      <th>prediction</th>\n",
       "      <th>text</th>\n",
       "      <th>characters</th>\n",
       "      <th>words</th>\n",
       "    </tr>\n",
       "  </thead>\n",
       "  <tbody>\n",
       "    <tr>\n",
       "      <th>0</th>\n",
       "      <td>1</td>\n",
       "      <td>Do you feel the pressure to perform and not ri...</td>\n",
       "      <td>168</td>\n",
       "      <td>40</td>\n",
       "    </tr>\n",
       "    <tr>\n",
       "      <th>1</th>\n",
       "      <td>0</td>\n",
       "      <td>Hi, i've just updated from the gulus and I che...</td>\n",
       "      <td>741</td>\n",
       "      <td>116</td>\n",
       "    </tr>\n",
       "    <tr>\n",
       "      <th>2</th>\n",
       "      <td>1</td>\n",
       "      <td>Mega authenticV I A G R A $ DISCOUNT priceC I ...</td>\n",
       "      <td>124</td>\n",
       "      <td>28</td>\n",
       "    </tr>\n",
       "    <tr>\n",
       "      <th>3</th>\n",
       "      <td>1</td>\n",
       "      <td>Hey Billy, it was really fun going out the oth...</td>\n",
       "      <td>672</td>\n",
       "      <td>144</td>\n",
       "    </tr>\n",
       "    <tr>\n",
       "      <th>4</th>\n",
       "      <td>1</td>\n",
       "      <td>system\" of the home. It will have the capabili...</td>\n",
       "      <td>2545</td>\n",
       "      <td>498</td>\n",
       "    </tr>\n",
       "  </tbody>\n",
       "</table>\n",
       "</div>"
      ],
      "text/plain": [
       "   prediction                                               text  characters  \\\n",
       "0           1  Do you feel the pressure to perform and not ri...         168   \n",
       "1           0  Hi, i've just updated from the gulus and I che...         741   \n",
       "2           1  Mega authenticV I A G R A $ DISCOUNT priceC I ...         124   \n",
       "3           1  Hey Billy, it was really fun going out the oth...         672   \n",
       "4           1  system\" of the home. It will have the capabili...        2545   \n",
       "\n",
       "   words  \n",
       "0     40  \n",
       "1    116  \n",
       "2     28  \n",
       "3    144  \n",
       "4    498  "
      ]
     },
     "execution_count": 22,
     "metadata": {},
     "output_type": "execute_result"
    }
   ],
   "source": [
    "df.head()"
   ]
  },
  {
   "cell_type": "code",
   "execution_count": 23,
   "id": "a020fc0d",
   "metadata": {},
   "outputs": [],
   "source": [
    "df['sentences'] = df['text'].apply(lambda x:len(nltk.sent_tokenize(x)))"
   ]
  },
  {
   "cell_type": "code",
   "execution_count": 24,
   "id": "1bd499ef",
   "metadata": {},
   "outputs": [
    {
     "data": {
      "text/html": [
       "<div>\n",
       "<style scoped>\n",
       "    .dataframe tbody tr th:only-of-type {\n",
       "        vertical-align: middle;\n",
       "    }\n",
       "\n",
       "    .dataframe tbody tr th {\n",
       "        vertical-align: top;\n",
       "    }\n",
       "\n",
       "    .dataframe thead th {\n",
       "        text-align: right;\n",
       "    }\n",
       "</style>\n",
       "<table border=\"1\" class=\"dataframe\">\n",
       "  <thead>\n",
       "    <tr style=\"text-align: right;\">\n",
       "      <th></th>\n",
       "      <th>prediction</th>\n",
       "      <th>text</th>\n",
       "      <th>characters</th>\n",
       "      <th>words</th>\n",
       "      <th>sentences</th>\n",
       "    </tr>\n",
       "  </thead>\n",
       "  <tbody>\n",
       "    <tr>\n",
       "      <th>0</th>\n",
       "      <td>1</td>\n",
       "      <td>Do you feel the pressure to perform and not ri...</td>\n",
       "      <td>168</td>\n",
       "      <td>40</td>\n",
       "      <td>2</td>\n",
       "    </tr>\n",
       "    <tr>\n",
       "      <th>1</th>\n",
       "      <td>0</td>\n",
       "      <td>Hi, i've just updated from the gulus and I che...</td>\n",
       "      <td>741</td>\n",
       "      <td>116</td>\n",
       "      <td>8</td>\n",
       "    </tr>\n",
       "    <tr>\n",
       "      <th>2</th>\n",
       "      <td>1</td>\n",
       "      <td>Mega authenticV I A G R A $ DISCOUNT priceC I ...</td>\n",
       "      <td>124</td>\n",
       "      <td>28</td>\n",
       "      <td>2</td>\n",
       "    </tr>\n",
       "    <tr>\n",
       "      <th>3</th>\n",
       "      <td>1</td>\n",
       "      <td>Hey Billy, it was really fun going out the oth...</td>\n",
       "      <td>672</td>\n",
       "      <td>144</td>\n",
       "      <td>3</td>\n",
       "    </tr>\n",
       "    <tr>\n",
       "      <th>4</th>\n",
       "      <td>1</td>\n",
       "      <td>system\" of the home. It will have the capabili...</td>\n",
       "      <td>2545</td>\n",
       "      <td>498</td>\n",
       "      <td>29</td>\n",
       "    </tr>\n",
       "  </tbody>\n",
       "</table>\n",
       "</div>"
      ],
      "text/plain": [
       "   prediction                                               text  characters  \\\n",
       "0           1  Do you feel the pressure to perform and not ri...         168   \n",
       "1           0  Hi, i've just updated from the gulus and I che...         741   \n",
       "2           1  Mega authenticV I A G R A $ DISCOUNT priceC I ...         124   \n",
       "3           1  Hey Billy, it was really fun going out the oth...         672   \n",
       "4           1  system\" of the home. It will have the capabili...        2545   \n",
       "\n",
       "   words  sentences  \n",
       "0     40          2  \n",
       "1    116          8  \n",
       "2     28          2  \n",
       "3    144          3  \n",
       "4    498         29  "
      ]
     },
     "execution_count": 24,
     "metadata": {},
     "output_type": "execute_result"
    }
   ],
   "source": [
    "df.head()"
   ]
  },
  {
   "cell_type": "code",
   "execution_count": 80,
   "id": "efebef58",
   "metadata": {},
   "outputs": [
    {
     "data": {
      "text/html": [
       "<div>\n",
       "<style scoped>\n",
       "    .dataframe tbody tr th:only-of-type {\n",
       "        vertical-align: middle;\n",
       "    }\n",
       "\n",
       "    .dataframe tbody tr th {\n",
       "        vertical-align: top;\n",
       "    }\n",
       "\n",
       "    .dataframe thead th {\n",
       "        text-align: right;\n",
       "    }\n",
       "</style>\n",
       "<table border=\"1\" class=\"dataframe\">\n",
       "  <thead>\n",
       "    <tr style=\"text-align: right;\">\n",
       "      <th></th>\n",
       "      <th>characters</th>\n",
       "      <th>words</th>\n",
       "      <th>sentences</th>\n",
       "    </tr>\n",
       "  </thead>\n",
       "  <tbody>\n",
       "    <tr>\n",
       "      <th>count</th>\n",
       "      <td>53998.000000</td>\n",
       "      <td>53998.000000</td>\n",
       "      <td>53998.000000</td>\n",
       "    </tr>\n",
       "    <tr>\n",
       "      <th>mean</th>\n",
       "      <td>1936.290937</td>\n",
       "      <td>332.308326</td>\n",
       "      <td>11.223064</td>\n",
       "    </tr>\n",
       "    <tr>\n",
       "      <th>std</th>\n",
       "      <td>4676.027918</td>\n",
       "      <td>825.105315</td>\n",
       "      <td>18.034016</td>\n",
       "    </tr>\n",
       "    <tr>\n",
       "      <th>min</th>\n",
       "      <td>1.000000</td>\n",
       "      <td>1.000000</td>\n",
       "      <td>1.000000</td>\n",
       "    </tr>\n",
       "    <tr>\n",
       "      <th>25%</th>\n",
       "      <td>575.000000</td>\n",
       "      <td>97.000000</td>\n",
       "      <td>4.000000</td>\n",
       "    </tr>\n",
       "    <tr>\n",
       "      <th>50%</th>\n",
       "      <td>1078.000000</td>\n",
       "      <td>180.000000</td>\n",
       "      <td>7.000000</td>\n",
       "    </tr>\n",
       "    <tr>\n",
       "      <th>75%</th>\n",
       "      <td>2184.000000</td>\n",
       "      <td>362.000000</td>\n",
       "      <td>13.000000</td>\n",
       "    </tr>\n",
       "    <tr>\n",
       "      <th>max</th>\n",
       "      <td>677811.000000</td>\n",
       "      <td>118794.000000</td>\n",
       "      <td>817.000000</td>\n",
       "    </tr>\n",
       "  </tbody>\n",
       "</table>\n",
       "</div>"
      ],
      "text/plain": [
       "          characters          words     sentences\n",
       "count   53998.000000   53998.000000  53998.000000\n",
       "mean     1936.290937     332.308326     11.223064\n",
       "std      4676.027918     825.105315     18.034016\n",
       "min         1.000000       1.000000      1.000000\n",
       "25%       575.000000      97.000000      4.000000\n",
       "50%      1078.000000     180.000000      7.000000\n",
       "75%      2184.000000     362.000000     13.000000\n",
       "max    677811.000000  118794.000000    817.000000"
      ]
     },
     "execution_count": 80,
     "metadata": {},
     "output_type": "execute_result"
    }
   ],
   "source": [
    "df[['characters','words','sentences']].describe()"
   ]
  },
  {
   "cell_type": "code",
   "execution_count": 81,
   "id": "2666fa02",
   "metadata": {},
   "outputs": [
    {
     "data": {
      "text/html": [
       "<div>\n",
       "<style scoped>\n",
       "    .dataframe tbody tr th:only-of-type {\n",
       "        vertical-align: middle;\n",
       "    }\n",
       "\n",
       "    .dataframe tbody tr th {\n",
       "        vertical-align: top;\n",
       "    }\n",
       "\n",
       "    .dataframe thead th {\n",
       "        text-align: right;\n",
       "    }\n",
       "</style>\n",
       "<table border=\"1\" class=\"dataframe\">\n",
       "  <thead>\n",
       "    <tr style=\"text-align: right;\">\n",
       "      <th></th>\n",
       "      <th>characters</th>\n",
       "      <th>words</th>\n",
       "      <th>sentences</th>\n",
       "    </tr>\n",
       "  </thead>\n",
       "  <tbody>\n",
       "    <tr>\n",
       "      <th>count</th>\n",
       "      <td>23765.000000</td>\n",
       "      <td>23765.000000</td>\n",
       "      <td>23765.000000</td>\n",
       "    </tr>\n",
       "    <tr>\n",
       "      <th>mean</th>\n",
       "      <td>2737.111719</td>\n",
       "      <td>478.857395</td>\n",
       "      <td>13.466779</td>\n",
       "    </tr>\n",
       "    <tr>\n",
       "      <th>std</th>\n",
       "      <td>6520.306668</td>\n",
       "      <td>1162.750222</td>\n",
       "      <td>22.852239</td>\n",
       "    </tr>\n",
       "    <tr>\n",
       "      <th>min</th>\n",
       "      <td>6.000000</td>\n",
       "      <td>1.000000</td>\n",
       "      <td>1.000000</td>\n",
       "    </tr>\n",
       "    <tr>\n",
       "      <th>25%</th>\n",
       "      <td>889.000000</td>\n",
       "      <td>153.000000</td>\n",
       "      <td>5.000000</td>\n",
       "    </tr>\n",
       "    <tr>\n",
       "      <th>50%</th>\n",
       "      <td>1510.000000</td>\n",
       "      <td>263.000000</td>\n",
       "      <td>8.000000</td>\n",
       "    </tr>\n",
       "    <tr>\n",
       "      <th>75%</th>\n",
       "      <td>2813.000000</td>\n",
       "      <td>491.000000</td>\n",
       "      <td>14.000000</td>\n",
       "    </tr>\n",
       "    <tr>\n",
       "      <th>max</th>\n",
       "      <td>677811.000000</td>\n",
       "      <td>118794.000000</td>\n",
       "      <td>588.000000</td>\n",
       "    </tr>\n",
       "  </tbody>\n",
       "</table>\n",
       "</div>"
      ],
      "text/plain": [
       "          characters          words     sentences\n",
       "count   23765.000000   23765.000000  23765.000000\n",
       "mean     2737.111719     478.857395     13.466779\n",
       "std      6520.306668    1162.750222     22.852239\n",
       "min         6.000000       1.000000      1.000000\n",
       "25%       889.000000     153.000000      5.000000\n",
       "50%      1510.000000     263.000000      8.000000\n",
       "75%      2813.000000     491.000000     14.000000\n",
       "max    677811.000000  118794.000000    588.000000"
      ]
     },
     "execution_count": 81,
     "metadata": {},
     "output_type": "execute_result"
    }
   ],
   "source": [
    "# ham\n",
    "df[df['prediction'] == 0][['characters','words','sentences']].describe()"
   ]
  },
  {
   "cell_type": "code",
   "execution_count": 82,
   "id": "46c43a71",
   "metadata": {},
   "outputs": [
    {
     "data": {
      "text/html": [
       "<div>\n",
       "<style scoped>\n",
       "    .dataframe tbody tr th:only-of-type {\n",
       "        vertical-align: middle;\n",
       "    }\n",
       "\n",
       "    .dataframe tbody tr th {\n",
       "        vertical-align: top;\n",
       "    }\n",
       "\n",
       "    .dataframe thead th {\n",
       "        text-align: right;\n",
       "    }\n",
       "</style>\n",
       "<table border=\"1\" class=\"dataframe\">\n",
       "  <thead>\n",
       "    <tr style=\"text-align: right;\">\n",
       "      <th></th>\n",
       "      <th>characters</th>\n",
       "      <th>words</th>\n",
       "      <th>sentences</th>\n",
       "    </tr>\n",
       "  </thead>\n",
       "  <tbody>\n",
       "    <tr>\n",
       "      <th>count</th>\n",
       "      <td>30233.000000</td>\n",
       "      <td>30233.000000</td>\n",
       "      <td>30233.000000</td>\n",
       "    </tr>\n",
       "    <tr>\n",
       "      <th>mean</th>\n",
       "      <td>1306.796481</td>\n",
       "      <td>217.111732</td>\n",
       "      <td>9.459366</td>\n",
       "    </tr>\n",
       "    <tr>\n",
       "      <th>std</th>\n",
       "      <td>2175.818957</td>\n",
       "      <td>350.822915</td>\n",
       "      <td>12.779529</td>\n",
       "    </tr>\n",
       "    <tr>\n",
       "      <th>min</th>\n",
       "      <td>1.000000</td>\n",
       "      <td>1.000000</td>\n",
       "      <td>1.000000</td>\n",
       "    </tr>\n",
       "    <tr>\n",
       "      <th>25%</th>\n",
       "      <td>421.000000</td>\n",
       "      <td>67.000000</td>\n",
       "      <td>3.000000</td>\n",
       "    </tr>\n",
       "    <tr>\n",
       "      <th>50%</th>\n",
       "      <td>773.000000</td>\n",
       "      <td>134.000000</td>\n",
       "      <td>6.000000</td>\n",
       "    </tr>\n",
       "    <tr>\n",
       "      <th>75%</th>\n",
       "      <td>1680.000000</td>\n",
       "      <td>281.000000</td>\n",
       "      <td>12.000000</td>\n",
       "    </tr>\n",
       "    <tr>\n",
       "      <th>max</th>\n",
       "      <td>146276.000000</td>\n",
       "      <td>26616.000000</td>\n",
       "      <td>817.000000</td>\n",
       "    </tr>\n",
       "  </tbody>\n",
       "</table>\n",
       "</div>"
      ],
      "text/plain": [
       "          characters         words     sentences\n",
       "count   30233.000000  30233.000000  30233.000000\n",
       "mean     1306.796481    217.111732      9.459366\n",
       "std      2175.818957    350.822915     12.779529\n",
       "min         1.000000      1.000000      1.000000\n",
       "25%       421.000000     67.000000      3.000000\n",
       "50%       773.000000    134.000000      6.000000\n",
       "75%      1680.000000    281.000000     12.000000\n",
       "max    146276.000000  26616.000000    817.000000"
      ]
     },
     "execution_count": 82,
     "metadata": {},
     "output_type": "execute_result"
    }
   ],
   "source": [
    "#spam\n",
    "df[df['prediction'] == 1][['characters','words','sentences']].describe()"
   ]
  },
  {
   "cell_type": "code",
   "execution_count": 50,
   "id": "c86d058c",
   "metadata": {},
   "outputs": [],
   "source": [
    "import seaborn as sns"
   ]
  },
  {
   "cell_type": "code",
   "execution_count": 51,
   "id": "acd4b4d7",
   "metadata": {},
   "outputs": [
    {
     "data": {
      "text/plain": [
       "<Axes: xlabel='characters', ylabel='Count'>"
      ]
     },
     "execution_count": 51,
     "metadata": {},
     "output_type": "execute_result"
    },
    {
     "data": {
      "image/png": "[encoded data removed]",
      "text/plain": [
       "<Figure size 1500x800 with 1 Axes>"
      ]
     },
     "metadata": {},
     "output_type": "display_data"
    }
   ],
   "source": [
    "plt.figure(figsize=(15,8))\n",
    "sns.histplot(df[df['prediction'] == 0]['characters'])\n",
    "sns.histplot(df[df['prediction'] == 1]['characters'],color='red')"
   ]
  },
  {
   "cell_type": "code",
   "execution_count": 77,
   "id": "757b78a7",
   "metadata": {},
   "outputs": [
    {
     "data": {
      "text/plain": [
       "<Axes: xlabel='words', ylabel='Count'>"
      ]
     },
     "execution_count": 77,
     "metadata": {},
     "output_type": "execute_result"
    },
    {
     "data": {
      "image/png": "[encoded data removed]",
      "text/plain": [
       "<Figure size 1500x800 with 1 Axes>"
      ]
     },
     "metadata": {},
     "output_type": "display_data"
    }
   ],
   "source": [
    "plt.figure(figsize=(15,8))\n",
    "sns.histplot(df[df['prediction'] == 0]['words'])\n",
    "sns.histplot(df[df['prediction'] == 1]['words'],color='black')"
   ]
  },
  {
   "cell_type": "code",
   "execution_count": null,
   "id": "d0c968c4",
   "metadata": {},
   "outputs": [],
   "source": []
  },
  {
   "cell_type": "code",
   "execution_count": 78,
   "id": "7f205015",
   "metadata": {},
   "outputs": [
    {
     "name": "stderr",
     "output_type": "stream",
     "text": [
      "C:\\ProgramData\\anaconda3\\Lib\\site-packages\\seaborn\\axisgrid.py:118: UserWarning: The figure layout has changed to tight\n",
      "  self._figure.tight_layout(*args, **kwargs)\n"
     ]
    },
    {
     "data": {
      "text/plain": [
       "<seaborn.axisgrid.PairGrid at 0x182bc8a9390>"
      ]
     },
     "execution_count": 78,
     "metadata": {},
     "output_type": "execute_result"
    },
    {
     "data": {
      "image/png": "[encoded data removed]",
      "text/plain": [
       "<Figure size 830.986x750 with 12 Axes>"
      ]
     },
     "metadata": {},
     "output_type": "display_data"
    }
   ],
   "source": [
    "sns.pairplot(df,hue='prediction')"
   ]
  },
  {
   "cell_type": "code",
   "execution_count": 79,
   "id": "5f5b151e",
   "metadata": {},
   "outputs": [
    {
     "data": {
      "text/plain": [
       "<Axes: >"
      ]
     },
     "execution_count": 79,
     "metadata": {},
     "output_type": "execute_result"
    },
    {
     "data": {
      "image/png": "[encoded data removed]",
      "text/plain": [
       "<Figure size 640x480 with 2 Axes>"
      ]
     },
     "metadata": {},
     "output_type": "display_data"
    }
   ],
   "source": [
    "numeric_columns = df.select_dtypes(include=[np.number])\n",
    "sns.heatmap(numeric_columns.corr(), annot=True)\n"
   ]
  },
  {
   "cell_type": "markdown",
   "id": "6b428bb8",
   "metadata": {},
   "source": [
    "# 3. Data Preprocessing\n",
    "Lower case\n",
    "\n",
    "Tokenization\n",
    "\n",
    "Removing special characters\n",
    "\n",
    "Removing stop words and punctuation\n",
    "\n",
    "Stemming"
   ]
  },
  {
   "cell_type": "code",
   "execution_count": null,
   "id": "4c44ce3f",
   "metadata": {},
   "outputs": [],
   "source": []
  },
  {
   "cell_type": "code",
   "execution_count": 25,
   "id": "27aca846",
   "metadata": {},
   "outputs": [
    {
     "name": "stderr",
     "output_type": "stream",
     "text": [
      "[nltk_data] Downloading package stopwords to\n",
      "[nltk_data]     C:\\Users\\Dynamic_Computer\\AppData\\Roaming\\nltk_data...\n",
      "[nltk_data]   Package stopwords is already up-to-date!\n"
     ]
    },
    {
     "data": {
      "text/plain": [
       "True"
      ]
     },
     "execution_count": 25,
     "metadata": {},
     "output_type": "execute_result"
    }
   ],
   "source": [
    "import nltk\n",
    "nltk.download('stopwords')"
   ]
  },
  {
   "cell_type": "code",
   "execution_count": 26,
   "id": "a2c71ce4",
   "metadata": {},
   "outputs": [],
   "source": [
    "import re\n",
    "\n",
    "def detect_spam_words(text):\n",
    "    words = text.split()  # Split the text into words\n",
    "    \n",
    "    fixed_words = []\n",
    "    current_fixed_word = \"\"\n",
    "\n",
    "    for word in words:\n",
    "        # Check if the word contains '/' or '*'\n",
    "        if '/' in word or '*' in word:\n",
    "            # Remove '/' and '*' characters and append the word to the current fixed word\n",
    "            current_fixed_word += re.sub(r'[/\\*]', '', word)\n",
    "        else:\n",
    "            # If it's not a word containing '/', add the current fixed word (if any) to the list\n",
    "            if current_fixed_word:\n",
    "                fixed_words.append(current_fixed_word)\n",
    "                current_fixed_word = \"\"  # Reset the current fixed word\n",
    "            fixed_words.append(word)\n",
    "\n",
    "    # Append the last current fixed word (if any) to the list\n",
    "    if current_fixed_word:\n",
    "        fixed_words.append(current_fixed_word)\n",
    "\n",
    "    return ' '.join(fixed_words)\n",
    "\n",
    "#in dataset,pal es tine\n",
    "#now palestine"
   ]
  },
  {
   "cell_type": "code",
   "execution_count": 27,
   "id": "8a7db958",
   "metadata": {},
   "outputs": [
    {
     "data": {
      "text/plain": [
       "'I support palestine'"
      ]
     },
     "execution_count": 27,
     "metadata": {},
     "output_type": "execute_result"
    }
   ],
   "source": [
    "detect_spam_words(\"I support pal/es*tine\")"
   ]
  },
  {
   "cell_type": "code",
   "execution_count": 28,
   "id": "e3b5eff8",
   "metadata": {},
   "outputs": [],
   "source": [
    "df['detect_text'] = df['text'].apply(detect_spam_words)"
   ]
  },
  {
   "cell_type": "code",
   "execution_count": 29,
   "id": "b11d9072",
   "metadata": {},
   "outputs": [
    {
     "data": {
      "text/html": [
       "<div>\n",
       "<style scoped>\n",
       "    .dataframe tbody tr th:only-of-type {\n",
       "        vertical-align: middle;\n",
       "    }\n",
       "\n",
       "    .dataframe tbody tr th {\n",
       "        vertical-align: top;\n",
       "    }\n",
       "\n",
       "    .dataframe thead th {\n",
       "        text-align: right;\n",
       "    }\n",
       "</style>\n",
       "<table border=\"1\" class=\"dataframe\">\n",
       "  <thead>\n",
       "    <tr style=\"text-align: right;\">\n",
       "      <th></th>\n",
       "      <th>prediction</th>\n",
       "      <th>text</th>\n",
       "      <th>characters</th>\n",
       "      <th>words</th>\n",
       "      <th>sentences</th>\n",
       "      <th>detect_text</th>\n",
       "    </tr>\n",
       "  </thead>\n",
       "  <tbody>\n",
       "    <tr>\n",
       "      <th>0</th>\n",
       "      <td>1</td>\n",
       "      <td>Do you feel the pressure to perform and not ri...</td>\n",
       "      <td>168</td>\n",
       "      <td>40</td>\n",
       "      <td>2</td>\n",
       "      <td>Do you feel the pressure to perform and not ri...</td>\n",
       "    </tr>\n",
       "    <tr>\n",
       "      <th>1</th>\n",
       "      <td>0</td>\n",
       "      <td>Hi, i've just updated from the gulus and I che...</td>\n",
       "      <td>741</td>\n",
       "      <td>116</td>\n",
       "      <td>8</td>\n",
       "      <td>Hi, i've just updated from the gulus and I che...</td>\n",
       "    </tr>\n",
       "    <tr>\n",
       "      <th>2</th>\n",
       "      <td>1</td>\n",
       "      <td>Mega authenticV I A G R A $ DISCOUNT priceC I ...</td>\n",
       "      <td>124</td>\n",
       "      <td>28</td>\n",
       "      <td>2</td>\n",
       "      <td>Mega authenticV I A G R A $ DISCOUNT priceC I ...</td>\n",
       "    </tr>\n",
       "    <tr>\n",
       "      <th>3</th>\n",
       "      <td>1</td>\n",
       "      <td>Hey Billy, it was really fun going out the oth...</td>\n",
       "      <td>672</td>\n",
       "      <td>144</td>\n",
       "      <td>3</td>\n",
       "      <td>Hey Billy, it was really fun going out the oth...</td>\n",
       "    </tr>\n",
       "    <tr>\n",
       "      <th>4</th>\n",
       "      <td>1</td>\n",
       "      <td>system\" of the home. It will have the capabili...</td>\n",
       "      <td>2545</td>\n",
       "      <td>498</td>\n",
       "      <td>29</td>\n",
       "      <td>system\" of the home. It will have the capabili...</td>\n",
       "    </tr>\n",
       "  </tbody>\n",
       "</table>\n",
       "</div>"
      ],
      "text/plain": [
       "   prediction                                               text  characters  \\\n",
       "0           1  Do you feel the pressure to perform and not ri...         168   \n",
       "1           0  Hi, i've just updated from the gulus and I che...         741   \n",
       "2           1  Mega authenticV I A G R A $ DISCOUNT priceC I ...         124   \n",
       "3           1  Hey Billy, it was really fun going out the oth...         672   \n",
       "4           1  system\" of the home. It will have the capabili...        2545   \n",
       "\n",
       "   words  sentences                                        detect_text  \n",
       "0     40          2  Do you feel the pressure to perform and not ri...  \n",
       "1    116          8  Hi, i've just updated from the gulus and I che...  \n",
       "2     28          2  Mega authenticV I A G R A $ DISCOUNT priceC I ...  \n",
       "3    144          3  Hey Billy, it was really fun going out the oth...  \n",
       "4    498         29  system\" of the home. It will have the capabili...  "
      ]
     },
     "execution_count": 29,
     "metadata": {},
     "output_type": "execute_result"
    }
   ],
   "source": [
    "df.head()"
   ]
  },
  {
   "cell_type": "code",
   "execution_count": 30,
   "id": "87aa6d59",
   "metadata": {},
   "outputs": [
    {
     "name": "stderr",
     "output_type": "stream",
     "text": [
      "[nltk_data] Downloading package punkt to\n",
      "[nltk_data]     C:\\Users\\Dynamic_Computer\\AppData\\Roaming\\nltk_data...\n",
      "[nltk_data]   Package punkt is already up-to-date!\n",
      "[nltk_data] Downloading package stopwords to\n",
      "[nltk_data]     C:\\Users\\Dynamic_Computer\\AppData\\Roaming\\nltk_data...\n",
      "[nltk_data]   Package stopwords is already up-to-date!\n"
     ]
    }
   ],
   "source": [
    "import nltk\n",
    "from nltk.corpus import stopwords\n",
    "from nltk.stem import PorterStemmer\n",
    "import string\n",
    "\n",
    "nltk.download('punkt')\n",
    "nltk.download('stopwords')\n",
    "\n",
    "ps = PorterStemmer()\n",
    "\n",
    "def transform_text(detect_text):\n",
    "    if isinstance(detect_text, str):\n",
    "        detect_text = detect_text.lower()\n",
    "        detect_text = nltk.word_tokenize(detect_text)\n",
    "\n",
    "        y = []\n",
    "        for i in detect_text:\n",
    "            if i.isalnum():\n",
    "                y.append(i)\n",
    "\n",
    "        detect_text = y[:]\n",
    "        y.clear()\n",
    "\n",
    "        for i in detect_text:\n",
    "            if i not in stopwords.words('english') and i not in string.punctuation:\n",
    "                y.append(i)\n",
    "\n",
    "        detect_text = y[:]\n",
    "        y.clear()\n",
    "\n",
    "        for i in detect_text:\n",
    "            y.append(ps.stem(i))\n",
    "\n",
    "        return \" \".join(y)\n",
    "    else:\n",
    "        return \"\"  # Return an empty string if 'detect_text' is not a string\n"
   ]
  },
  {
   "cell_type": "code",
   "execution_count": 31,
   "id": "706abda9",
   "metadata": {},
   "outputs": [
    {
     "data": {
      "text/plain": [
       "'gon na home soon want talk stuff anymor tonight k cri enough today'"
      ]
     },
     "execution_count": 31,
     "metadata": {},
     "output_type": "execute_result"
    }
   ],
   "source": [
    "transform_text(\"I'm gonna be home soon and i don't want to talk about this stuff anymore tonight, k? I've cried enough today.\")\n"
   ]
  },
  {
   "cell_type": "code",
   "execution_count": 32,
   "id": "c856fd32",
   "metadata": {},
   "outputs": [
    {
     "data": {
      "text/plain": [
       "'Anatrim =escapenumber The latest and most delighting product for weighty people=escapenumber= is now readily available =escapenumber As shown on CNN. Can you recall all the times when you asked yourself to do any thing to=escapenumber= get rid of this fastly growing pounds of fat? Happily, now no big=escapenumber= offering is expected. With Anatrim, the ground-breaking weight-reducing=escapenumber= medley, you can get healthier mode of life and become really thinner.=escapenumber= Have a look at what our customers say! \"It=escapenumbers rather difficult to admit it but I was extremely addicted to=escapenumber= food. I greedily ate all this garbige and just could not stop. This fatal passion left off after I started course of taking Anatrim! God, my inclination to eat constantly vanished, mood improved and I=escapenumberm the happiest person on the planet escapenumber pounds in=escapenumber= escapenumber.escapenumber months. So, I can tell you now I=escapenumberm the happiest person!\" Lusia R., Chicago \"Since my early childhood I was a weighty boy. It=escapenumbers difficult to imagine how I abhorred being mocked at school. I abhorred my stoutness and I abhorred myself. After trying many different remedies I found out about Anatrim. It literally took me out of this fearful nightmare! Many and many=escapenumber= thanks to you, guys.\" Rikky Martin, Washington \"You know what? My marriage was saved thanks to Anatrim! I got into the=escapenumber= circle, depression =escapenumber eating more =escapenumber even more depression. My wife was=escapenumber= thinking about the leaving me as I was turning in overweight psycho. One my best friend pointed to your web page and I ordered up pack of=escapenumber= Anatrim at the time. The final result was magnficent, my appetite came to normal level, I=escapenumber= was often in a good mood, and, of course, I became able to tighten my=escapenumber= belt on some holes. And you see, the bed became cool, too!\" Charley There many and many sincere gratitudes left by happy people taking=escapenumber= Anatrim. Why don\\'t you join the tens of thousands of slender men and=escapenumber= women and try this natural appetite abating energy lifting product now! Do not decline your opportunity!'"
      ]
     },
     "execution_count": 32,
     "metadata": {},
     "output_type": "execute_result"
    }
   ],
   "source": [
    "df['text'][10]"
   ]
  },
  {
   "cell_type": "code",
   "execution_count": 33,
   "id": "291007e8",
   "metadata": {},
   "outputs": [
    {
     "data": {
      "text/plain": [
       "'care'"
      ]
     },
     "execution_count": 33,
     "metadata": {},
     "output_type": "execute_result"
    }
   ],
   "source": [
    "from nltk.stem.porter import PorterStemmer\n",
    "ps = PorterStemmer()\n",
    "ps.stem('caring')"
   ]
  },
  {
   "cell_type": "code",
   "execution_count": 34,
   "id": "3ba5cb77",
   "metadata": {},
   "outputs": [],
   "source": [
    "df['transformed_text'] = df['detect_text'].apply(transform_text)"
   ]
  },
  {
   "cell_type": "code",
   "execution_count": 35,
   "id": "543bfb25",
   "metadata": {},
   "outputs": [
    {
     "data": {
      "text/html": [
       "<div>\n",
       "<style scoped>\n",
       "    .dataframe tbody tr th:only-of-type {\n",
       "        vertical-align: middle;\n",
       "    }\n",
       "\n",
       "    .dataframe tbody tr th {\n",
       "        vertical-align: top;\n",
       "    }\n",
       "\n",
       "    .dataframe thead th {\n",
       "        text-align: right;\n",
       "    }\n",
       "</style>\n",
       "<table border=\"1\" class=\"dataframe\">\n",
       "  <thead>\n",
       "    <tr style=\"text-align: right;\">\n",
       "      <th></th>\n",
       "      <th>prediction</th>\n",
       "      <th>text</th>\n",
       "      <th>characters</th>\n",
       "      <th>words</th>\n",
       "      <th>sentences</th>\n",
       "      <th>detect_text</th>\n",
       "      <th>transformed_text</th>\n",
       "    </tr>\n",
       "  </thead>\n",
       "  <tbody>\n",
       "    <tr>\n",
       "      <th>0</th>\n",
       "      <td>1</td>\n",
       "      <td>Do you feel the pressure to perform and not ri...</td>\n",
       "      <td>168</td>\n",
       "      <td>40</td>\n",
       "      <td>2</td>\n",
       "      <td>Do you feel the pressure to perform and not ri...</td>\n",
       "      <td>feel pressur perform rise occas tri v ia gr an...</td>\n",
       "    </tr>\n",
       "    <tr>\n",
       "      <th>1</th>\n",
       "      <td>0</td>\n",
       "      <td>Hi, i've just updated from the gulus and I che...</td>\n",
       "      <td>741</td>\n",
       "      <td>116</td>\n",
       "      <td>8</td>\n",
       "      <td>Hi, i've just updated from the gulus and I che...</td>\n",
       "      <td>hi updat gulu check mirror seem littl typo deb...</td>\n",
       "    </tr>\n",
       "    <tr>\n",
       "      <th>2</th>\n",
       "      <td>1</td>\n",
       "      <td>Mega authenticV I A G R A $ DISCOUNT priceC I ...</td>\n",
       "      <td>124</td>\n",
       "      <td>28</td>\n",
       "      <td>2</td>\n",
       "      <td>Mega authenticV I A G R A $ DISCOUNT priceC I ...</td>\n",
       "      <td>mega authenticv g r discount pricec l discount...</td>\n",
       "    </tr>\n",
       "    <tr>\n",
       "      <th>3</th>\n",
       "      <td>1</td>\n",
       "      <td>Hey Billy, it was really fun going out the oth...</td>\n",
       "      <td>672</td>\n",
       "      <td>144</td>\n",
       "      <td>3</td>\n",
       "      <td>Hey Billy, it was really fun going out the oth...</td>\n",
       "      <td>hey billi realli fun go night talk said felt i...</td>\n",
       "    </tr>\n",
       "    <tr>\n",
       "      <th>4</th>\n",
       "      <td>1</td>\n",
       "      <td>system\" of the home. It will have the capabili...</td>\n",
       "      <td>2545</td>\n",
       "      <td>498</td>\n",
       "      <td>29</td>\n",
       "      <td>system\" of the home. It will have the capabili...</td>\n",
       "      <td>system home capabl link far know within part r...</td>\n",
       "    </tr>\n",
       "  </tbody>\n",
       "</table>\n",
       "</div>"
      ],
      "text/plain": [
       "   prediction                                               text  characters  \\\n",
       "0           1  Do you feel the pressure to perform and not ri...         168   \n",
       "1           0  Hi, i've just updated from the gulus and I che...         741   \n",
       "2           1  Mega authenticV I A G R A $ DISCOUNT priceC I ...         124   \n",
       "3           1  Hey Billy, it was really fun going out the oth...         672   \n",
       "4           1  system\" of the home. It will have the capabili...        2545   \n",
       "\n",
       "   words  sentences                                        detect_text  \\\n",
       "0     40          2  Do you feel the pressure to perform and not ri...   \n",
       "1    116          8  Hi, i've just updated from the gulus and I che...   \n",
       "2     28          2  Mega authenticV I A G R A $ DISCOUNT priceC I ...   \n",
       "3    144          3  Hey Billy, it was really fun going out the oth...   \n",
       "4    498         29  system\" of the home. It will have the capabili...   \n",
       "\n",
       "                                    transformed_text  \n",
       "0  feel pressur perform rise occas tri v ia gr an...  \n",
       "1  hi updat gulu check mirror seem littl typo deb...  \n",
       "2  mega authenticv g r discount pricec l discount...  \n",
       "3  hey billi realli fun go night talk said felt i...  \n",
       "4  system home capabl link far know within part r...  "
      ]
     },
     "execution_count": 35,
     "metadata": {},
     "output_type": "execute_result"
    }
   ],
   "source": [
    "df.head()"
   ]
  },
  {
   "cell_type": "markdown",
   "id": "7bbf1bd8",
   "metadata": {},
   "source": [
    "WordCloud"
   ]
  },
  {
   "cell_type": "code",
   "execution_count": 36,
   "id": "9a9019f9",
   "metadata": {},
   "outputs": [
    {
     "name": "stdout",
     "output_type": "stream",
     "text": [
      "Requirement already satisfied: wordcloud in c:\\programdata\\anaconda3\\lib\\site-packages (1.9.2)\n",
      "Requirement already satisfied: numpy>=1.6.1 in c:\\programdata\\anaconda3\\lib\\site-packages (from wordcloud) (1.24.3)\n",
      "Requirement already satisfied: pillow in c:\\programdata\\anaconda3\\lib\\site-packages (from wordcloud) (9.4.0)\n",
      "Requirement already satisfied: matplotlib in c:\\programdata\\anaconda3\\lib\\site-packages (from wordcloud) (3.7.2)\n",
      "Requirement already satisfied: contourpy>=1.0.1 in c:\\programdata\\anaconda3\\lib\\site-packages (from matplotlib->wordcloud) (1.0.5)\n",
      "Requirement already satisfied: cycler>=0.10 in c:\\programdata\\anaconda3\\lib\\site-packages (from matplotlib->wordcloud) (0.11.0)\n",
      "Requirement already satisfied: fonttools>=4.22.0 in c:\\programdata\\anaconda3\\lib\\site-packages (from matplotlib->wordcloud) (4.25.0)\n",
      "Requirement already satisfied: kiwisolver>=1.0.1 in c:\\programdata\\anaconda3\\lib\\site-packages (from matplotlib->wordcloud) (1.4.4)\n",
      "Requirement already satisfied: packaging>=20.0 in c:\\programdata\\anaconda3\\lib\\site-packages (from matplotlib->wordcloud) (23.1)\n",
      "Requirement already satisfied: pyparsing<3.1,>=2.3.1 in c:\\programdata\\anaconda3\\lib\\site-packages (from matplotlib->wordcloud) (3.0.9)\n",
      "Requirement already satisfied: python-dateutil>=2.7 in c:\\programdata\\anaconda3\\lib\\site-packages (from matplotlib->wordcloud) (2.8.2)\n",
      "Requirement already satisfied: six>=1.5 in c:\\programdata\\anaconda3\\lib\\site-packages (from python-dateutil>=2.7->matplotlib->wordcloud) (1.16.0)\n"
     ]
    }
   ],
   "source": [
    "!pip install wordcloud\n",
    "\n",
    "from wordcloud import WordCloud\n",
    "wc = WordCloud(width=500,height=500,min_font_size=10,background_color='white')"
   ]
  },
  {
   "cell_type": "code",
   "execution_count": 37,
   "id": "25b12116",
   "metadata": {},
   "outputs": [],
   "source": [
    "spam_wc = wc.generate(df[df['prediction'] == 1]['transformed_text'].str.cat(sep=\" \"))\n"
   ]
  },
  {
   "cell_type": "code",
   "execution_count": 38,
   "id": "10c2e4b2",
   "metadata": {},
   "outputs": [
    {
     "data": {
      "text/plain": [
       "<matplotlib.image.AxesImage at 0x182faaad3d0>"
      ]
     },
     "execution_count": 38,
     "metadata": {},
     "output_type": "execute_result"
    },
    {
     "data": {
      "image/png": "[encoded data removed]",
      "text/plain": [
       "<Figure size 1500x600 with 1 Axes>"
      ]
     },
     "metadata": {},
     "output_type": "display_data"
    }
   ],
   "source": [
    "plt.figure(figsize=(15,6))\n",
    "plt.imshow(spam_wc)"
   ]
  },
  {
   "cell_type": "code",
   "execution_count": 39,
   "id": "d2b1f68a",
   "metadata": {},
   "outputs": [],
   "source": [
    "ham_wc = wc.generate(df[df['prediction'] == 0]['transformed_text'].str.cat(sep=\" \"))\n"
   ]
  },
  {
   "cell_type": "code",
   "execution_count": 40,
   "id": "1a498c69",
   "metadata": {},
   "outputs": [
    {
     "data": {
      "text/plain": [
       "<matplotlib.image.AxesImage at 0x182ebbc0d90>"
      ]
     },
     "execution_count": 40,
     "metadata": {},
     "output_type": "execute_result"
    },
    {
     "data": {
      "image/png": "[encoded data removed]",
      "text/plain": [
       "<Figure size 1500x600 with 1 Axes>"
      ]
     },
     "metadata": {},
     "output_type": "display_data"
    }
   ],
   "source": [
    "plt.figure(figsize=(15,6))\n",
    "plt.imshow(ham_wc)"
   ]
  },
  {
   "cell_type": "code",
   "execution_count": 46,
   "id": "4ab8341b",
   "metadata": {},
   "outputs": [
    {
     "data": {
      "text/html": [
       "<div>\n",
       "<style scoped>\n",
       "    .dataframe tbody tr th:only-of-type {\n",
       "        vertical-align: middle;\n",
       "    }\n",
       "\n",
       "    .dataframe tbody tr th {\n",
       "        vertical-align: top;\n",
       "    }\n",
       "\n",
       "    .dataframe thead th {\n",
       "        text-align: right;\n",
       "    }\n",
       "</style>\n",
       "<table border=\"1\" class=\"dataframe\">\n",
       "  <thead>\n",
       "    <tr style=\"text-align: right;\">\n",
       "      <th></th>\n",
       "      <th>prediction</th>\n",
       "      <th>text</th>\n",
       "      <th>characters</th>\n",
       "      <th>words</th>\n",
       "      <th>sentences</th>\n",
       "      <th>detect_text</th>\n",
       "      <th>transformed_text</th>\n",
       "    </tr>\n",
       "  </thead>\n",
       "  <tbody>\n",
       "    <tr>\n",
       "      <th>0</th>\n",
       "      <td>1</td>\n",
       "      <td>Do you feel the pressure to perform and not ri...</td>\n",
       "      <td>168</td>\n",
       "      <td>40</td>\n",
       "      <td>2</td>\n",
       "      <td>Do you feel the pressure to perform and not ri...</td>\n",
       "      <td>feel pressur perform rise occas tri v ia gr an...</td>\n",
       "    </tr>\n",
       "    <tr>\n",
       "      <th>1</th>\n",
       "      <td>0</td>\n",
       "      <td>Hi, i've just updated from the gulus and I che...</td>\n",
       "      <td>741</td>\n",
       "      <td>116</td>\n",
       "      <td>8</td>\n",
       "      <td>Hi, i've just updated from the gulus and I che...</td>\n",
       "      <td>hi updat gulu check mirror seem littl typo deb...</td>\n",
       "    </tr>\n",
       "    <tr>\n",
       "      <th>2</th>\n",
       "      <td>1</td>\n",
       "      <td>Mega authenticV I A G R A $ DISCOUNT priceC I ...</td>\n",
       "      <td>124</td>\n",
       "      <td>28</td>\n",
       "      <td>2</td>\n",
       "      <td>Mega authenticV I A G R A $ DISCOUNT priceC I ...</td>\n",
       "      <td>mega authenticv g r discount pricec l discount...</td>\n",
       "    </tr>\n",
       "    <tr>\n",
       "      <th>3</th>\n",
       "      <td>1</td>\n",
       "      <td>Hey Billy, it was really fun going out the oth...</td>\n",
       "      <td>672</td>\n",
       "      <td>144</td>\n",
       "      <td>3</td>\n",
       "      <td>Hey Billy, it was really fun going out the oth...</td>\n",
       "      <td>hey billi realli fun go night talk said felt i...</td>\n",
       "    </tr>\n",
       "    <tr>\n",
       "      <th>4</th>\n",
       "      <td>1</td>\n",
       "      <td>system\" of the home. It will have the capabili...</td>\n",
       "      <td>2545</td>\n",
       "      <td>498</td>\n",
       "      <td>29</td>\n",
       "      <td>system\" of the home. It will have the capabili...</td>\n",
       "      <td>system home capabl link far know within part r...</td>\n",
       "    </tr>\n",
       "  </tbody>\n",
       "</table>\n",
       "</div>"
      ],
      "text/plain": [
       "   prediction                                               text  characters  \\\n",
       "0           1  Do you feel the pressure to perform and not ri...         168   \n",
       "1           0  Hi, i've just updated from the gulus and I che...         741   \n",
       "2           1  Mega authenticV I A G R A $ DISCOUNT priceC I ...         124   \n",
       "3           1  Hey Billy, it was really fun going out the oth...         672   \n",
       "4           1  system\" of the home. It will have the capabili...        2545   \n",
       "\n",
       "   words  sentences                                        detect_text  \\\n",
       "0     40          2  Do you feel the pressure to perform and not ri...   \n",
       "1    116          8  Hi, i've just updated from the gulus and I che...   \n",
       "2     28          2  Mega authenticV I A G R A $ DISCOUNT priceC I ...   \n",
       "3    144          3  Hey Billy, it was really fun going out the oth...   \n",
       "4    498         29  system\" of the home. It will have the capabili...   \n",
       "\n",
       "                                    transformed_text  \n",
       "0  feel pressur perform rise occas tri v ia gr an...  \n",
       "1  hi updat gulu check mirror seem littl typo deb...  \n",
       "2  mega authenticv g r discount pricec l discount...  \n",
       "3  hey billi realli fun go night talk said felt i...  \n",
       "4  system home capabl link far know within part r...  "
      ]
     },
     "execution_count": 46,
     "metadata": {},
     "output_type": "execute_result"
    }
   ],
   "source": [
    "df.head()\n"
   ]
  },
  {
   "cell_type": "code",
   "execution_count": 47,
   "id": "a67533bd",
   "metadata": {},
   "outputs": [],
   "source": [
    "spam_corpus = []\n",
    "for msg in df[df['prediction'] == 1]['transformed_text'].tolist():\n",
    "    for word in msg.split():\n",
    "        spam_corpus.append(word)\n",
    "        "
   ]
  },
  {
   "cell_type": "code",
   "execution_count": 48,
   "id": "2735dee9",
   "metadata": {},
   "outputs": [
    {
     "data": {
      "text/plain": [
       "3117454"
      ]
     },
     "execution_count": 48,
     "metadata": {},
     "output_type": "execute_result"
    }
   ],
   "source": [
    "len(spam_corpus)\n"
   ]
  },
  {
   "cell_type": "code",
   "execution_count": 52,
   "id": "18ab6c84",
   "metadata": {},
   "outputs": [
    {
     "data": {
      "image/png": "[encoded data removed]",
      "text/plain": [
       "<Figure size 1000x600 with 1 Axes>"
      ]
     },
     "metadata": {},
     "output_type": "display_data"
    }
   ],
   "source": [
    "from collections import Counter\n",
    "\n",
    "# Assuming spam_corpus contains the list of words as generated previously\n",
    "\n",
    "# Create a Counter object to count word occurrences\n",
    "word_counter = Counter(spam_corpus)\n",
    "\n",
    "# Extract the 30 most common words and their counts\n",
    "common_words = dict(word_counter.most_common(30))\n",
    "\n",
    "# Create a DataFrame from the Counter object to plot\n",
    "word_df = pd.DataFrame(list(common_words.items()), columns=['Word', 'Count'])\n",
    "\n",
    "# Plotting using seaborn barplot\n",
    "plt.figure(figsize=(10, 6))\n",
    "sns.barplot(x='Word', y='Count', data=word_df)\n",
    "plt.xticks(rotation='vertical')\n",
    "plt.tight_layout()\n",
    "plt.show()\n"
   ]
  },
  {
   "cell_type": "code",
   "execution_count": 53,
   "id": "87ee5771",
   "metadata": {},
   "outputs": [],
   "source": [
    "ham_corpus = []\n",
    "for msg in df[df['prediction'] == 0]['transformed_text'].tolist():\n",
    "    for word in msg.split():\n",
    "        ham_corpus.append(word)"
   ]
  },
  {
   "cell_type": "code",
   "execution_count": 54,
   "id": "13938ace",
   "metadata": {},
   "outputs": [
    {
     "data": {
      "text/plain": [
       "4383535"
      ]
     },
     "execution_count": 54,
     "metadata": {},
     "output_type": "execute_result"
    }
   ],
   "source": [
    "len(ham_corpus)\n"
   ]
  },
  {
   "cell_type": "code",
   "execution_count": 55,
   "id": "cbb79c45",
   "metadata": {},
   "outputs": [
    {
     "data": {
      "image/png": "[encoded data removed]",
      "text/plain": [
       "<Figure size 1000x600 with 1 Axes>"
      ]
     },
     "metadata": {},
     "output_type": "display_data"
    }
   ],
   "source": [
    "from collections import Counter\n",
    "\n",
    "# Assuming ham_corpus contains the list of words\n",
    "\n",
    "# Create a Counter object to count word occurrences in ham_corpus\n",
    "word_counter = Counter(ham_corpus)\n",
    "\n",
    "# Extract the 30 most common words and their counts\n",
    "common_words = dict(word_counter.most_common(30))\n",
    "\n",
    "# Create a DataFrame from the Counter object to plot\n",
    "word_df = pd.DataFrame(list(common_words.items()), columns=['Word', 'Count'])\n",
    "\n",
    "# Plotting using seaborn barplot\n",
    "plt.figure(figsize=(10, 6))\n",
    "sns.barplot(x='Word', y='Count', data=word_df)\n",
    "plt.xticks(rotation='vertical')\n",
    "plt.tight_layout()\n",
    "plt.show()\n"
   ]
  },
  {
   "cell_type": "markdown",
   "id": "c01ec9fa",
   "metadata": {},
   "source": [
    "# Text Vectorization\n",
    "# using Bag of Words\n"
   ]
  },
  {
   "cell_type": "code",
   "execution_count": 56,
   "id": "65e45cbb",
   "metadata": {},
   "outputs": [
    {
     "data": {
      "text/html": [
       "<div>\n",
       "<style scoped>\n",
       "    .dataframe tbody tr th:only-of-type {\n",
       "        vertical-align: middle;\n",
       "    }\n",
       "\n",
       "    .dataframe tbody tr th {\n",
       "        vertical-align: top;\n",
       "    }\n",
       "\n",
       "    .dataframe thead th {\n",
       "        text-align: right;\n",
       "    }\n",
       "</style>\n",
       "<table border=\"1\" class=\"dataframe\">\n",
       "  <thead>\n",
       "    <tr style=\"text-align: right;\">\n",
       "      <th></th>\n",
       "      <th>prediction</th>\n",
       "      <th>text</th>\n",
       "      <th>characters</th>\n",
       "      <th>words</th>\n",
       "      <th>sentences</th>\n",
       "      <th>detect_text</th>\n",
       "      <th>transformed_text</th>\n",
       "    </tr>\n",
       "  </thead>\n",
       "  <tbody>\n",
       "    <tr>\n",
       "      <th>0</th>\n",
       "      <td>1</td>\n",
       "      <td>Do you feel the pressure to perform and not ri...</td>\n",
       "      <td>168</td>\n",
       "      <td>40</td>\n",
       "      <td>2</td>\n",
       "      <td>Do you feel the pressure to perform and not ri...</td>\n",
       "      <td>feel pressur perform rise occas tri v ia gr an...</td>\n",
       "    </tr>\n",
       "    <tr>\n",
       "      <th>1</th>\n",
       "      <td>0</td>\n",
       "      <td>Hi, i've just updated from the gulus and I che...</td>\n",
       "      <td>741</td>\n",
       "      <td>116</td>\n",
       "      <td>8</td>\n",
       "      <td>Hi, i've just updated from the gulus and I che...</td>\n",
       "      <td>hi updat gulu check mirror seem littl typo deb...</td>\n",
       "    </tr>\n",
       "    <tr>\n",
       "      <th>2</th>\n",
       "      <td>1</td>\n",
       "      <td>Mega authenticV I A G R A $ DISCOUNT priceC I ...</td>\n",
       "      <td>124</td>\n",
       "      <td>28</td>\n",
       "      <td>2</td>\n",
       "      <td>Mega authenticV I A G R A $ DISCOUNT priceC I ...</td>\n",
       "      <td>mega authenticv g r discount pricec l discount...</td>\n",
       "    </tr>\n",
       "    <tr>\n",
       "      <th>3</th>\n",
       "      <td>1</td>\n",
       "      <td>Hey Billy, it was really fun going out the oth...</td>\n",
       "      <td>672</td>\n",
       "      <td>144</td>\n",
       "      <td>3</td>\n",
       "      <td>Hey Billy, it was really fun going out the oth...</td>\n",
       "      <td>hey billi realli fun go night talk said felt i...</td>\n",
       "    </tr>\n",
       "    <tr>\n",
       "      <th>4</th>\n",
       "      <td>1</td>\n",
       "      <td>system\" of the home. It will have the capabili...</td>\n",
       "      <td>2545</td>\n",
       "      <td>498</td>\n",
       "      <td>29</td>\n",
       "      <td>system\" of the home. It will have the capabili...</td>\n",
       "      <td>system home capabl link far know within part r...</td>\n",
       "    </tr>\n",
       "  </tbody>\n",
       "</table>\n",
       "</div>"
      ],
      "text/plain": [
       "   prediction                                               text  characters  \\\n",
       "0           1  Do you feel the pressure to perform and not ri...         168   \n",
       "1           0  Hi, i've just updated from the gulus and I che...         741   \n",
       "2           1  Mega authenticV I A G R A $ DISCOUNT priceC I ...         124   \n",
       "3           1  Hey Billy, it was really fun going out the oth...         672   \n",
       "4           1  system\" of the home. It will have the capabili...        2545   \n",
       "\n",
       "   words  sentences                                        detect_text  \\\n",
       "0     40          2  Do you feel the pressure to perform and not ri...   \n",
       "1    116          8  Hi, i've just updated from the gulus and I che...   \n",
       "2     28          2  Mega authenticV I A G R A $ DISCOUNT priceC I ...   \n",
       "3    144          3  Hey Billy, it was really fun going out the oth...   \n",
       "4    498         29  system\" of the home. It will have the capabili...   \n",
       "\n",
       "                                    transformed_text  \n",
       "0  feel pressur perform rise occas tri v ia gr an...  \n",
       "1  hi updat gulu check mirror seem littl typo deb...  \n",
       "2  mega authenticv g r discount pricec l discount...  \n",
       "3  hey billi realli fun go night talk said felt i...  \n",
       "4  system home capabl link far know within part r...  "
      ]
     },
     "execution_count": 56,
     "metadata": {},
     "output_type": "execute_result"
    }
   ],
   "source": [
    "df.head()\n"
   ]
  },
  {
   "cell_type": "markdown",
   "id": "f773720b",
   "metadata": {},
   "source": [
    "# 4. Model Building"
   ]
  },
  {
   "cell_type": "code",
   "execution_count": 57,
   "id": "4bcb02bb",
   "metadata": {},
   "outputs": [],
   "source": [
    "from sklearn.feature_extraction.text import CountVectorizer,TfidfVectorizer\n",
    "cv = CountVectorizer()\n",
    "tfidf = TfidfVectorizer(max_features=3000)"
   ]
  },
  {
   "cell_type": "code",
   "execution_count": 58,
   "id": "fb413b9c",
   "metadata": {},
   "outputs": [],
   "source": [
    "X = tfidf.fit_transform(df['transformed_text']).toarray()\n"
   ]
  },
  {
   "cell_type": "code",
   "execution_count": 59,
   "id": "f15bcf55",
   "metadata": {},
   "outputs": [],
   "source": [
    "#from sklearn.preprocessing import MinMaxScaler\n",
    "#scaler = MinMaxScaler()\n",
    "#X = scaler.fit_transform(X)"
   ]
  },
  {
   "cell_type": "code",
   "execution_count": 60,
   "id": "4782c5c3",
   "metadata": {},
   "outputs": [],
   "source": [
    "# appending the num_character col to X\n",
    "#X = np.hstack((X,df['num_characters'].values.reshape(-1,1)))"
   ]
  },
  {
   "cell_type": "code",
   "execution_count": 61,
   "id": "c047268a",
   "metadata": {},
   "outputs": [
    {
     "data": {
      "text/plain": [
       "(53998, 3000)"
      ]
     },
     "execution_count": 61,
     "metadata": {},
     "output_type": "execute_result"
    }
   ],
   "source": [
    "X.shape\n",
    "\n"
   ]
  },
  {
   "cell_type": "code",
   "execution_count": 62,
   "id": "079290c7",
   "metadata": {},
   "outputs": [],
   "source": [
    "y = df['prediction'].values\n"
   ]
  },
  {
   "cell_type": "code",
   "execution_count": 63,
   "id": "f0fb738b",
   "metadata": {},
   "outputs": [],
   "source": [
    "from sklearn.model_selection import train_test_split\n"
   ]
  },
  {
   "cell_type": "code",
   "execution_count": 64,
   "id": "e01af84e",
   "metadata": {},
   "outputs": [],
   "source": [
    "X_train,X_test,y_train,y_test = train_test_split(X,y,test_size=0.2,random_state=2)\n"
   ]
  },
  {
   "cell_type": "code",
   "execution_count": 65,
   "id": "edb33e29",
   "metadata": {},
   "outputs": [],
   "source": [
    "from sklearn.naive_bayes import GaussianNB,MultinomialNB,BernoulliNB\n",
    "from sklearn.metrics import accuracy_score,confusion_matrix,precision_score"
   ]
  },
  {
   "cell_type": "code",
   "execution_count": 66,
   "id": "dbd7e6cb",
   "metadata": {},
   "outputs": [],
   "source": [
    "gnb = GaussianNB()\n",
    "mnb = MultinomialNB()\n",
    "bnb = BernoulliNB()"
   ]
  },
  {
   "cell_type": "code",
   "execution_count": 67,
   "id": "efe1281f",
   "metadata": {},
   "outputs": [
    {
     "name": "stdout",
     "output_type": "stream",
     "text": [
      "0.9580555555555555\n",
      "[[4663  171]\n",
      " [ 282 5684]]\n",
      "0.9707941929974381\n"
     ]
    }
   ],
   "source": [
    "gnb.fit(X_train,y_train)\n",
    "y_pred1 = gnb.predict(X_test)\n",
    "print(accuracy_score(y_test,y_pred1))\n",
    "print(confusion_matrix(y_test,y_pred1))\n",
    "print(precision_score(y_test,y_pred1))"
   ]
  },
  {
   "cell_type": "code",
   "execution_count": 68,
   "id": "c8709d47",
   "metadata": {},
   "outputs": [
    {
     "name": "stdout",
     "output_type": "stream",
     "text": [
      "0.9477777777777778\n",
      "[[4660  174]\n",
      " [ 390 5576]]\n",
      "0.9697391304347827\n"
     ]
    }
   ],
   "source": [
    "mnb.fit(X_train,y_train)\n",
    "y_pred2 = mnb.predict(X_test)\n",
    "print(accuracy_score(y_test,y_pred2))\n",
    "print(confusion_matrix(y_test,y_pred2))\n",
    "print(precision_score(y_test,y_pred2))"
   ]
  },
  {
   "cell_type": "code",
   "execution_count": 69,
   "id": "35193448",
   "metadata": {},
   "outputs": [
    {
     "name": "stdout",
     "output_type": "stream",
     "text": [
      "0.9316666666666666\n",
      "[[4491  343]\n",
      " [ 395 5571]]\n",
      "0.9420020290835306\n"
     ]
    }
   ],
   "source": [
    "bnb.fit(X_train,y_train)\n",
    "y_pred3 = bnb.predict(X_test)\n",
    "print(accuracy_score(y_test,y_pred3))\n",
    "print(confusion_matrix(y_test,y_pred3))\n",
    "print(precision_score(y_test,y_pred3))\n"
   ]
  },
  {
   "cell_type": "code",
   "execution_count": 70,
   "id": "ab69bda4",
   "metadata": {},
   "outputs": [
    {
     "name": "stdout",
     "output_type": "stream",
     "text": [
      "Requirement already satisfied: xgboost in c:\\programdata\\anaconda3\\lib\\site-packages (2.0.2)\n",
      "Requirement already satisfied: numpy in c:\\programdata\\anaconda3\\lib\\site-packages (from xgboost) (1.24.3)\n",
      "Requirement already satisfied: scipy in c:\\programdata\\anaconda3\\lib\\site-packages (from xgboost) (1.11.1)\n"
     ]
    }
   ],
   "source": [
    "# Run this cell in your Jupyter Notebook\n",
    "!pip install xgboost\n"
   ]
  },
  {
   "cell_type": "code",
   "execution_count": 71,
   "id": "94e42e7b",
   "metadata": {},
   "outputs": [],
   "source": [
    "from sklearn.linear_model import LogisticRegression\n",
    "from sklearn.svm import SVC\n",
    "from sklearn.naive_bayes import MultinomialNB\n",
    "from sklearn.tree import DecisionTreeClassifier\n",
    "from sklearn.neighbors import KNeighborsClassifier\n",
    "from sklearn.ensemble import RandomForestClassifier\n",
    "from sklearn.ensemble import AdaBoostClassifier\n",
    "from sklearn.ensemble import BaggingClassifier\n",
    "from sklearn.ensemble import ExtraTreesClassifier\n",
    "from sklearn.ensemble import GradientBoostingClassifier\n",
    "from xgboost import XGBClassifier"
   ]
  },
  {
   "cell_type": "code",
   "execution_count": 72,
   "id": "995a3c66",
   "metadata": {},
   "outputs": [],
   "source": [
    "svc = SVC(kernel='sigmoid', gamma=1.0)\n",
    "knc = KNeighborsClassifier()\n",
    "mnb = MultinomialNB()\n",
    "dtc = DecisionTreeClassifier(max_depth=5)\n",
    "lrc = LogisticRegression(solver='liblinear', penalty='l1')\n",
    "rfc = RandomForestClassifier(n_estimators=50, random_state=2)\n",
    "abc = AdaBoostClassifier(n_estimators=50, random_state=2)\n",
    "bc = BaggingClassifier(n_estimators=50, random_state=2)\n",
    "etc = ExtraTreesClassifier(n_estimators=50, random_state=2)\n",
    "gbdt = GradientBoostingClassifier(n_estimators=50,random_state=2)\n",
    "xgb = XGBClassifier(n_estimators=50,random_state=2)"
   ]
  },
  {
   "cell_type": "code",
   "execution_count": 73,
   "id": "e2b20a3f",
   "metadata": {},
   "outputs": [],
   "source": [
    "clfs = {\n",
    "    'SVC' : svc,\n",
    "    'KN' : knc, \n",
    "    'NB': mnb, \n",
    "    'DT': dtc, \n",
    "    'LR': lrc, \n",
    "    'RF': rfc, \n",
    "    'AdaBoost': abc, \n",
    "    'BgC': bc, \n",
    "    'ETC': etc,\n",
    "    'GBDT':gbdt,\n",
    "    'xgb':xgb\n",
    "}"
   ]
  },
  {
   "cell_type": "code",
   "execution_count": 74,
   "id": "82a377b2",
   "metadata": {},
   "outputs": [],
   "source": [
    "from sklearn.metrics import accuracy_score, precision_score, recall_score\n",
    "\n",
    "def train_classifier(clf, X_train, y_train, X_test, y_test):\n",
    "    clf.fit(X_train, y_train)\n",
    "    y_pred = clf.predict(X_test)\n",
    "    \n",
    "    accuracy = accuracy_score(y_test, y_pred)\n",
    "    precision = precision_score(y_test, y_pred)\n",
    "    recall = recall_score(y_test, y_pred)\n",
    "    \n",
    "    return accuracy, precision, recall\n"
   ]
  },
  {
   "cell_type": "code",
   "execution_count": 75,
   "id": "082b2da1",
   "metadata": {},
   "outputs": [
    {
     "data": {
      "text/plain": [
       "(0.9589814814814814, 0.9641956631366616, 0.9614482065035199)"
      ]
     },
     "execution_count": 75,
     "metadata": {},
     "output_type": "execute_result"
    }
   ],
   "source": [
    "train_classifier(svc,X_train,y_train,X_test,y_test)\n"
   ]
  },
  {
   "cell_type": "code",
   "execution_count": 76,
   "id": "0f204250",
   "metadata": {},
   "outputs": [
    {
     "name": "stdout",
     "output_type": "stream",
     "text": [
      "For  SVC\n",
      "Accuracy -  0.9589814814814814\n",
      "Precision -  0.9641956631366616\n",
      "Recall -  0.9614482065035199\n",
      "For  KN\n",
      "Accuracy -  0.865\n",
      "Precision -  0.8052546045503792\n",
      "Recall -  0.9966476701307408\n",
      "For  NB\n",
      "Accuracy -  0.9477777777777778\n",
      "Precision -  0.9697391304347827\n",
      "Recall -  0.9346295675494468\n",
      "For  DT\n",
      "Accuracy -  0.9366666666666666\n",
      "Precision -  0.9176154332700822\n",
      "Recall -  0.9726785115655381\n",
      "For  LR\n",
      "Accuracy -  0.9833333333333333\n",
      "Precision -  0.978656518861681\n",
      "Recall -  0.9914515588333892\n",
      "For  RF\n",
      "Accuracy -  0.9883333333333333\n",
      "Precision -  0.9869913275517012\n",
      "Recall -  0.9919544083137781\n",
      "For  AdaBoost\n",
      "Accuracy -  0.962037037037037\n",
      "Precision -  0.9590218109715797\n",
      "Recall -  0.9728461280590011\n",
      "For  BgC\n",
      "Accuracy -  0.9825\n",
      "Precision -  0.9805356845782731\n",
      "Recall -  0.9879316124706671\n",
      "For  ETC\n",
      "Accuracy -  0.9866666666666667\n",
      "Precision -  0.9903975741239892\n",
      "Recall -  0.9854173650687228\n",
      "For  GBDT\n",
      "Accuracy -  0.9582407407407407\n",
      "Precision -  0.9471379925409438\n",
      "Recall -  0.9790479383171304\n",
      "For  xgb\n",
      "Accuracy -  0.9835185185185186\n",
      "Precision -  0.9788219722038385\n",
      "Recall -  0.9916191753268522\n"
     ]
    }
   ],
   "source": [
    "accuracy_scores = []\n",
    "precision_scores = []\n",
    "recall_scores = []\n",
    "\n",
    "for name, clf in clfs.items():\n",
    "    current_accuracy, current_precision, current_recall = train_classifier(clf, X_train, y_train, X_test, y_test)\n",
    "    \n",
    "    print(\"For \", name)  \n",
    "    print(\"Accuracy - \", current_accuracy)\n",
    "    print(\"Precision - \", current_precision)\n",
    "    print(\"Recall - \", current_recall)\n",
    "    \n",
    "    accuracy_scores.append(current_accuracy)\n",
    "    precision_scores.append(current_precision)\n",
    "    recall_scores.append(current_recall)\n"
   ]
  },
  {
   "cell_type": "code",
   "execution_count": 83,
   "id": "7a289d79",
   "metadata": {},
   "outputs": [],
   "source": [
    "performance_df = pd.DataFrame({\n",
    "    'Algorithm': clfs.keys(),\n",
    "    'Accuracy': accuracy_scores,\n",
    "    'Precision': precision_scores,\n",
    "    'Recall': recall_scores\n",
    "}).sort_values('Precision', ascending=False)\n"
   ]
  },
  {
   "cell_type": "code",
   "execution_count": 84,
   "id": "725fc235",
   "metadata": {},
   "outputs": [
    {
     "data": {
      "text/html": [
       "<div>\n",
       "<style scoped>\n",
       "    .dataframe tbody tr th:only-of-type {\n",
       "        vertical-align: middle;\n",
       "    }\n",
       "\n",
       "    .dataframe tbody tr th {\n",
       "        vertical-align: top;\n",
       "    }\n",
       "\n",
       "    .dataframe thead th {\n",
       "        text-align: right;\n",
       "    }\n",
       "</style>\n",
       "<table border=\"1\" class=\"dataframe\">\n",
       "  <thead>\n",
       "    <tr style=\"text-align: right;\">\n",
       "      <th></th>\n",
       "      <th>Algorithm</th>\n",
       "      <th>Accuracy</th>\n",
       "      <th>Precision</th>\n",
       "      <th>Recall</th>\n",
       "    </tr>\n",
       "  </thead>\n",
       "  <tbody>\n",
       "    <tr>\n",
       "      <th>8</th>\n",
       "      <td>ETC</td>\n",
       "      <td>0.986667</td>\n",
       "      <td>0.990398</td>\n",
       "      <td>0.985417</td>\n",
       "    </tr>\n",
       "    <tr>\n",
       "      <th>5</th>\n",
       "      <td>RF</td>\n",
       "      <td>0.988333</td>\n",
       "      <td>0.986991</td>\n",
       "      <td>0.991954</td>\n",
       "    </tr>\n",
       "    <tr>\n",
       "      <th>7</th>\n",
       "      <td>BgC</td>\n",
       "      <td>0.982500</td>\n",
       "      <td>0.980536</td>\n",
       "      <td>0.987932</td>\n",
       "    </tr>\n",
       "    <tr>\n",
       "      <th>10</th>\n",
       "      <td>xgb</td>\n",
       "      <td>0.983519</td>\n",
       "      <td>0.978822</td>\n",
       "      <td>0.991619</td>\n",
       "    </tr>\n",
       "    <tr>\n",
       "      <th>4</th>\n",
       "      <td>LR</td>\n",
       "      <td>0.983333</td>\n",
       "      <td>0.978657</td>\n",
       "      <td>0.991452</td>\n",
       "    </tr>\n",
       "    <tr>\n",
       "      <th>2</th>\n",
       "      <td>NB</td>\n",
       "      <td>0.947778</td>\n",
       "      <td>0.969739</td>\n",
       "      <td>0.934630</td>\n",
       "    </tr>\n",
       "    <tr>\n",
       "      <th>0</th>\n",
       "      <td>SVC</td>\n",
       "      <td>0.958981</td>\n",
       "      <td>0.964196</td>\n",
       "      <td>0.961448</td>\n",
       "    </tr>\n",
       "    <tr>\n",
       "      <th>6</th>\n",
       "      <td>AdaBoost</td>\n",
       "      <td>0.962037</td>\n",
       "      <td>0.959022</td>\n",
       "      <td>0.972846</td>\n",
       "    </tr>\n",
       "    <tr>\n",
       "      <th>9</th>\n",
       "      <td>GBDT</td>\n",
       "      <td>0.958241</td>\n",
       "      <td>0.947138</td>\n",
       "      <td>0.979048</td>\n",
       "    </tr>\n",
       "    <tr>\n",
       "      <th>3</th>\n",
       "      <td>DT</td>\n",
       "      <td>0.936667</td>\n",
       "      <td>0.917615</td>\n",
       "      <td>0.972679</td>\n",
       "    </tr>\n",
       "    <tr>\n",
       "      <th>1</th>\n",
       "      <td>KN</td>\n",
       "      <td>0.865000</td>\n",
       "      <td>0.805255</td>\n",
       "      <td>0.996648</td>\n",
       "    </tr>\n",
       "  </tbody>\n",
       "</table>\n",
       "</div>"
      ],
      "text/plain": [
       "   Algorithm  Accuracy  Precision    Recall\n",
       "8        ETC  0.986667   0.990398  0.985417\n",
       "5         RF  0.988333   0.986991  0.991954\n",
       "7        BgC  0.982500   0.980536  0.987932\n",
       "10       xgb  0.983519   0.978822  0.991619\n",
       "4         LR  0.983333   0.978657  0.991452\n",
       "2         NB  0.947778   0.969739  0.934630\n",
       "0        SVC  0.958981   0.964196  0.961448\n",
       "6   AdaBoost  0.962037   0.959022  0.972846\n",
       "9       GBDT  0.958241   0.947138  0.979048\n",
       "3         DT  0.936667   0.917615  0.972679\n",
       "1         KN  0.865000   0.805255  0.996648"
      ]
     },
     "execution_count": 84,
     "metadata": {},
     "output_type": "execute_result"
    }
   ],
   "source": [
    "performance_df\n"
   ]
  },
  {
   "cell_type": "code",
   "execution_count": 85,
   "id": "bb53141b",
   "metadata": {},
   "outputs": [],
   "source": [
    "performance_df1 = pd.melt(performance_df, id_vars = \"Algorithm\")\n"
   ]
  },
  {
   "cell_type": "code",
   "execution_count": 86,
   "id": "3f9e963b",
   "metadata": {},
   "outputs": [
    {
     "data": {
      "text/html": [
       "<div>\n",
       "<style scoped>\n",
       "    .dataframe tbody tr th:only-of-type {\n",
       "        vertical-align: middle;\n",
       "    }\n",
       "\n",
       "    .dataframe tbody tr th {\n",
       "        vertical-align: top;\n",
       "    }\n",
       "\n",
       "    .dataframe thead th {\n",
       "        text-align: right;\n",
       "    }\n",
       "</style>\n",
       "<table border=\"1\" class=\"dataframe\">\n",
       "  <thead>\n",
       "    <tr style=\"text-align: right;\">\n",
       "      <th></th>\n",
       "      <th>Algorithm</th>\n",
       "      <th>variable</th>\n",
       "      <th>value</th>\n",
       "    </tr>\n",
       "  </thead>\n",
       "  <tbody>\n",
       "    <tr>\n",
       "      <th>0</th>\n",
       "      <td>ETC</td>\n",
       "      <td>Accuracy</td>\n",
       "      <td>0.986667</td>\n",
       "    </tr>\n",
       "    <tr>\n",
       "      <th>1</th>\n",
       "      <td>RF</td>\n",
       "      <td>Accuracy</td>\n",
       "      <td>0.988333</td>\n",
       "    </tr>\n",
       "    <tr>\n",
       "      <th>2</th>\n",
       "      <td>BgC</td>\n",
       "      <td>Accuracy</td>\n",
       "      <td>0.982500</td>\n",
       "    </tr>\n",
       "    <tr>\n",
       "      <th>3</th>\n",
       "      <td>xgb</td>\n",
       "      <td>Accuracy</td>\n",
       "      <td>0.983519</td>\n",
       "    </tr>\n",
       "    <tr>\n",
       "      <th>4</th>\n",
       "      <td>LR</td>\n",
       "      <td>Accuracy</td>\n",
       "      <td>0.983333</td>\n",
       "    </tr>\n",
       "    <tr>\n",
       "      <th>5</th>\n",
       "      <td>NB</td>\n",
       "      <td>Accuracy</td>\n",
       "      <td>0.947778</td>\n",
       "    </tr>\n",
       "    <tr>\n",
       "      <th>6</th>\n",
       "      <td>SVC</td>\n",
       "      <td>Accuracy</td>\n",
       "      <td>0.958981</td>\n",
       "    </tr>\n",
       "    <tr>\n",
       "      <th>7</th>\n",
       "      <td>AdaBoost</td>\n",
       "      <td>Accuracy</td>\n",
       "      <td>0.962037</td>\n",
       "    </tr>\n",
       "    <tr>\n",
       "      <th>8</th>\n",
       "      <td>GBDT</td>\n",
       "      <td>Accuracy</td>\n",
       "      <td>0.958241</td>\n",
       "    </tr>\n",
       "    <tr>\n",
       "      <th>9</th>\n",
       "      <td>DT</td>\n",
       "      <td>Accuracy</td>\n",
       "      <td>0.936667</td>\n",
       "    </tr>\n",
       "    <tr>\n",
       "      <th>10</th>\n",
       "      <td>KN</td>\n",
       "      <td>Accuracy</td>\n",
       "      <td>0.865000</td>\n",
       "    </tr>\n",
       "    <tr>\n",
       "      <th>11</th>\n",
       "      <td>ETC</td>\n",
       "      <td>Precision</td>\n",
       "      <td>0.990398</td>\n",
       "    </tr>\n",
       "    <tr>\n",
       "      <th>12</th>\n",
       "      <td>RF</td>\n",
       "      <td>Precision</td>\n",
       "      <td>0.986991</td>\n",
       "    </tr>\n",
       "    <tr>\n",
       "      <th>13</th>\n",
       "      <td>BgC</td>\n",
       "      <td>Precision</td>\n",
       "      <td>0.980536</td>\n",
       "    </tr>\n",
       "    <tr>\n",
       "      <th>14</th>\n",
       "      <td>xgb</td>\n",
       "      <td>Precision</td>\n",
       "      <td>0.978822</td>\n",
       "    </tr>\n",
       "    <tr>\n",
       "      <th>15</th>\n",
       "      <td>LR</td>\n",
       "      <td>Precision</td>\n",
       "      <td>0.978657</td>\n",
       "    </tr>\n",
       "    <tr>\n",
       "      <th>16</th>\n",
       "      <td>NB</td>\n",
       "      <td>Precision</td>\n",
       "      <td>0.969739</td>\n",
       "    </tr>\n",
       "    <tr>\n",
       "      <th>17</th>\n",
       "      <td>SVC</td>\n",
       "      <td>Precision</td>\n",
       "      <td>0.964196</td>\n",
       "    </tr>\n",
       "    <tr>\n",
       "      <th>18</th>\n",
       "      <td>AdaBoost</td>\n",
       "      <td>Precision</td>\n",
       "      <td>0.959022</td>\n",
       "    </tr>\n",
       "    <tr>\n",
       "      <th>19</th>\n",
       "      <td>GBDT</td>\n",
       "      <td>Precision</td>\n",
       "      <td>0.947138</td>\n",
       "    </tr>\n",
       "    <tr>\n",
       "      <th>20</th>\n",
       "      <td>DT</td>\n",
       "      <td>Precision</td>\n",
       "      <td>0.917615</td>\n",
       "    </tr>\n",
       "    <tr>\n",
       "      <th>21</th>\n",
       "      <td>KN</td>\n",
       "      <td>Precision</td>\n",
       "      <td>0.805255</td>\n",
       "    </tr>\n",
       "    <tr>\n",
       "      <th>22</th>\n",
       "      <td>ETC</td>\n",
       "      <td>Recall</td>\n",
       "      <td>0.985417</td>\n",
       "    </tr>\n",
       "    <tr>\n",
       "      <th>23</th>\n",
       "      <td>RF</td>\n",
       "      <td>Recall</td>\n",
       "      <td>0.991954</td>\n",
       "    </tr>\n",
       "    <tr>\n",
       "      <th>24</th>\n",
       "      <td>BgC</td>\n",
       "      <td>Recall</td>\n",
       "      <td>0.987932</td>\n",
       "    </tr>\n",
       "    <tr>\n",
       "      <th>25</th>\n",
       "      <td>xgb</td>\n",
       "      <td>Recall</td>\n",
       "      <td>0.991619</td>\n",
       "    </tr>\n",
       "    <tr>\n",
       "      <th>26</th>\n",
       "      <td>LR</td>\n",
       "      <td>Recall</td>\n",
       "      <td>0.991452</td>\n",
       "    </tr>\n",
       "    <tr>\n",
       "      <th>27</th>\n",
       "      <td>NB</td>\n",
       "      <td>Recall</td>\n",
       "      <td>0.934630</td>\n",
       "    </tr>\n",
       "    <tr>\n",
       "      <th>28</th>\n",
       "      <td>SVC</td>\n",
       "      <td>Recall</td>\n",
       "      <td>0.961448</td>\n",
       "    </tr>\n",
       "    <tr>\n",
       "      <th>29</th>\n",
       "      <td>AdaBoost</td>\n",
       "      <td>Recall</td>\n",
       "      <td>0.972846</td>\n",
       "    </tr>\n",
       "    <tr>\n",
       "      <th>30</th>\n",
       "      <td>GBDT</td>\n",
       "      <td>Recall</td>\n",
       "      <td>0.979048</td>\n",
       "    </tr>\n",
       "    <tr>\n",
       "      <th>31</th>\n",
       "      <td>DT</td>\n",
       "      <td>Recall</td>\n",
       "      <td>0.972679</td>\n",
       "    </tr>\n",
       "    <tr>\n",
       "      <th>32</th>\n",
       "      <td>KN</td>\n",
       "      <td>Recall</td>\n",
       "      <td>0.996648</td>\n",
       "    </tr>\n",
       "  </tbody>\n",
       "</table>\n",
       "</div>"
      ],
      "text/plain": [
       "   Algorithm   variable     value\n",
       "0        ETC   Accuracy  0.986667\n",
       "1         RF   Accuracy  0.988333\n",
       "2        BgC   Accuracy  0.982500\n",
       "3        xgb   Accuracy  0.983519\n",
       "4         LR   Accuracy  0.983333\n",
       "5         NB   Accuracy  0.947778\n",
       "6        SVC   Accuracy  0.958981\n",
       "7   AdaBoost   Accuracy  0.962037\n",
       "8       GBDT   Accuracy  0.958241\n",
       "9         DT   Accuracy  0.936667\n",
       "10        KN   Accuracy  0.865000\n",
       "11       ETC  Precision  0.990398\n",
       "12        RF  Precision  0.986991\n",
       "13       BgC  Precision  0.980536\n",
       "14       xgb  Precision  0.978822\n",
       "15        LR  Precision  0.978657\n",
       "16        NB  Precision  0.969739\n",
       "17       SVC  Precision  0.964196\n",
       "18  AdaBoost  Precision  0.959022\n",
       "19      GBDT  Precision  0.947138\n",
       "20        DT  Precision  0.917615\n",
       "21        KN  Precision  0.805255\n",
       "22       ETC     Recall  0.985417\n",
       "23        RF     Recall  0.991954\n",
       "24       BgC     Recall  0.987932\n",
       "25       xgb     Recall  0.991619\n",
       "26        LR     Recall  0.991452\n",
       "27        NB     Recall  0.934630\n",
       "28       SVC     Recall  0.961448\n",
       "29  AdaBoost     Recall  0.972846\n",
       "30      GBDT     Recall  0.979048\n",
       "31        DT     Recall  0.972679\n",
       "32        KN     Recall  0.996648"
      ]
     },
     "execution_count": 86,
     "metadata": {},
     "output_type": "execute_result"
    }
   ],
   "source": [
    "performance_df1\n"
   ]
  },
  {
   "cell_type": "code",
   "execution_count": 87,
   "id": "c69b2eaa",
   "metadata": {},
   "outputs": [
    {
     "name": "stderr",
     "output_type": "stream",
     "text": [
      "C:\\ProgramData\\anaconda3\\Lib\\site-packages\\seaborn\\axisgrid.py:118: UserWarning: The figure layout has changed to tight\n",
      "  self._figure.tight_layout(*args, **kwargs)\n"
     ]
    },
    {
     "data": {
      "image/png": "[encoded data removed]",
      "text/plain": [
       "<Figure size 613.5x500 with 1 Axes>"
      ]
     },
     "metadata": {},
     "output_type": "display_data"
    }
   ],
   "source": [
    "sns.catplot(x = 'Algorithm', y='value', \n",
    "               hue = 'variable',data=performance_df1, kind='bar',height=5)\n",
    "plt.ylim(0.5,1.0)\n",
    "plt.xticks(rotation='vertical')\n",
    "plt.show()"
   ]
  },
  {
   "cell_type": "code",
   "execution_count": 88,
   "id": "4d8e599d",
   "metadata": {},
   "outputs": [
    {
     "name": "stdout",
     "output_type": "stream",
     "text": [
      "variable Algorithm  Precision    Recall  F1 Score\n",
      "0         AdaBoost   0.959022  0.972846  0.965885\n",
      "1              BgC   0.980536  0.987932  0.984220\n",
      "2               DT   0.917615  0.972679  0.944345\n",
      "3              ETC   0.990398  0.985417  0.987901\n",
      "4             GBDT   0.947138  0.979048  0.962829\n",
      "5               KN   0.805255  0.996648  0.890787\n",
      "6               LR   0.978657  0.991452  0.985012\n",
      "7               NB   0.969739  0.934630  0.951861\n",
      "8               RF   0.986991  0.991954  0.989467\n",
      "9              SVC   0.964196  0.961448  0.962820\n",
      "10             xgb   0.978822  0.991619  0.985179\n"
     ]
    }
   ],
   "source": [
    "# Assuming performance_df1 contains columns: 'Algorithm', 'variable', 'value'\n",
    "# Filter the DataFrame to get Precision and Recall values\n",
    "precision_recall_df = performance_df1[performance_df1['variable'].isin(['Precision', 'Recall'])]\n",
    "\n",
    "# Pivot the DataFrame to have Precision and Recall as separate columns\n",
    "pivot_precision_recall = precision_recall_df.pivot(index='Algorithm', columns='variable', values='value').reset_index()\n",
    "\n",
    "# Calculate F1 score\n",
    "pivot_precision_recall['F1 Score'] = 2 * (pivot_precision_recall['Precision'] * pivot_precision_recall['Recall']) / (pivot_precision_recall['Precision'] + pivot_precision_recall['Recall'])\n",
    "\n",
    "# Display the DataFrame with Precision, Recall, and F1 scores\n",
    "print(pivot_precision_recall[['Algorithm', 'Precision', 'Recall', 'F1 Score']])\n"
   ]
  },
  {
   "cell_type": "markdown",
   "id": "e73b43b0",
   "metadata": {},
   "source": [
    "# Model improve\n",
    "# 1. Change the max_features parameter of TfIdf\n"
   ]
  },
  {
   "cell_type": "code",
   "execution_count": 89,
   "id": "a3f49ad7",
   "metadata": {},
   "outputs": [],
   "source": [
    "temp_df_max_ft_3000 = pd.DataFrame({\n",
    "    'Algorithm': clfs.keys(),\n",
    "    'Accuracy_max_ft_3000': accuracy_scores,\n",
    "    'Precision_max_ft_3000': precision_scores,\n",
    "    'Recall_max_ft_3000': recall_scores\n",
    "}).sort_values('Precision_max_ft_3000', ascending=False)"
   ]
  },
  {
   "cell_type": "code",
   "execution_count": 90,
   "id": "10f52a89",
   "metadata": {},
   "outputs": [],
   "source": [
    "temp_df_scaling = pd.DataFrame({\n",
    "    'Algorithm': clfs.keys(),\n",
    "    'Accuracy_scaling': accuracy_scores,\n",
    "    'Precision_scaling': precision_scores,\n",
    "    'Recall_scaling': recall_scores\n",
    "}).sort_values('Precision_scaling', ascending=False)"
   ]
  },
  {
   "cell_type": "code",
   "execution_count": 91,
   "id": "51e576ae",
   "metadata": {},
   "outputs": [],
   "source": [
    "temp_df_num_chars = pd.DataFrame({\n",
    "    'Algorithm': clfs.keys(),\n",
    "    'Accuracy_num_chars': accuracy_scores,\n",
    "    'Precision_num_chars': precision_scores,\n",
    "    'Recall_num_chars': recall_scores\n",
    "}).sort_values('Precision_num_chars', ascending=False)"
   ]
  },
  {
   "cell_type": "code",
   "execution_count": 92,
   "id": "15aadadb",
   "metadata": {},
   "outputs": [],
   "source": [
    "new_df = performance_df.merge(temp_df_max_ft_3000, on='Algorithm')\n"
   ]
  },
  {
   "cell_type": "code",
   "execution_count": 93,
   "id": "670df69d",
   "metadata": {},
   "outputs": [],
   "source": [
    "new_df = new_df.merge(temp_df_scaling, on='Algorithm', suffixes=('_max_ft_3000', '_scaling'))\n"
   ]
  },
  {
   "cell_type": "code",
   "execution_count": 94,
   "id": "cdb28f80",
   "metadata": {},
   "outputs": [],
   "source": [
    "new_df_scaled = new_df.merge(temp_df_num_chars, on='Algorithm')\n"
   ]
  },
  {
   "cell_type": "code",
   "execution_count": 95,
   "id": "b7ef383e",
   "metadata": {},
   "outputs": [
    {
     "name": "stdout",
     "output_type": "stream",
     "text": [
      "   Algorithm  Accuracy  Precision    Recall  Accuracy_max_ft_3000  \\\n",
      "0        ETC  0.986667   0.990398  0.985417              0.986667   \n",
      "1         RF  0.988333   0.986991  0.991954              0.988333   \n",
      "2        BgC  0.982500   0.980536  0.987932              0.982500   \n",
      "3        xgb  0.983519   0.978822  0.991619              0.983519   \n",
      "4         LR  0.983333   0.978657  0.991452              0.983333   \n",
      "5         NB  0.947778   0.969739  0.934630              0.947778   \n",
      "6        SVC  0.958981   0.964196  0.961448              0.958981   \n",
      "7   AdaBoost  0.962037   0.959022  0.972846              0.962037   \n",
      "8       GBDT  0.958241   0.947138  0.979048              0.958241   \n",
      "9         DT  0.936667   0.917615  0.972679              0.936667   \n",
      "10        KN  0.865000   0.805255  0.996648              0.865000   \n",
      "\n",
      "    Precision_max_ft_3000  Recall_max_ft_3000  Accuracy_scaling  \\\n",
      "0                0.990398            0.985417          0.986667   \n",
      "1                0.986991            0.991954          0.988333   \n",
      "2                0.980536            0.987932          0.982500   \n",
      "3                0.978822            0.991619          0.983519   \n",
      "4                0.978657            0.991452          0.983333   \n",
      "5                0.969739            0.934630          0.947778   \n",
      "6                0.964196            0.961448          0.958981   \n",
      "7                0.959022            0.972846          0.962037   \n",
      "8                0.947138            0.979048          0.958241   \n",
      "9                0.917615            0.972679          0.936667   \n",
      "10               0.805255            0.996648          0.865000   \n",
      "\n",
      "    Precision_scaling  Recall_scaling  Accuracy_num_chars  \\\n",
      "0            0.990398        0.985417            0.986667   \n",
      "1            0.986991        0.991954            0.988333   \n",
      "2            0.980536        0.987932            0.982500   \n",
      "3            0.978822        0.991619            0.983519   \n",
      "4            0.978657        0.991452            0.983333   \n",
      "5            0.969739        0.934630            0.947778   \n",
      "6            0.964196        0.961448            0.958981   \n",
      "7            0.959022        0.972846            0.962037   \n",
      "8            0.947138        0.979048            0.958241   \n",
      "9            0.917615        0.972679            0.936667   \n",
      "10           0.805255        0.996648            0.865000   \n",
      "\n",
      "    Precision_num_chars  Recall_num_chars  \n",
      "0              0.990398          0.985417  \n",
      "1              0.986991          0.991954  \n",
      "2              0.980536          0.987932  \n",
      "3              0.978822          0.991619  \n",
      "4              0.978657          0.991452  \n",
      "5              0.969739          0.934630  \n",
      "6              0.964196          0.961448  \n",
      "7              0.959022          0.972846  \n",
      "8              0.947138          0.979048  \n",
      "9              0.917615          0.972679  \n",
      "10             0.805255          0.996648  \n"
     ]
    }
   ],
   "source": [
    "print(new_df_scaled)\n"
   ]
  },
  {
   "cell_type": "markdown",
   "id": "9af90c40",
   "metadata": {},
   "source": [
    "voting classifier"
   ]
  },
  {
   "cell_type": "code",
   "execution_count": 96,
   "id": "d9ec9855",
   "metadata": {},
   "outputs": [],
   "source": [
    "# Voting Classifier\n",
    "svc = SVC(kernel='sigmoid', gamma=1.0,probability=True)\n",
    "mnb = MultinomialNB()\n",
    "etc = ExtraTreesClassifier(n_estimators=50, random_state=2)\n",
    "\n",
    "from sklearn.ensemble import VotingClassifier"
   ]
  },
  {
   "cell_type": "code",
   "execution_count": 97,
   "id": "26f5c268",
   "metadata": {},
   "outputs": [],
   "source": [
    "voting = VotingClassifier(estimators=[('svm', svc), ('nb', mnb), ('et', etc)],voting='soft')\n"
   ]
  },
  {
   "cell_type": "code",
   "execution_count": 98,
   "id": "c99fb8d6",
   "metadata": {},
   "outputs": [
    {
     "data": {
      "text/html": [
       "<style>#sk-container-id-1 {color: black;}#sk-container-id-1 pre{padding: 0;}#sk-container-id-1 div.sk-toggleable {background-color: white;}#sk-container-id-1 label.sk-toggleable__label {cursor: pointer;display: block;width: 100%;margin-bottom: 0;padding: 0.3em;box-sizing: border-box;text-align: center;}#sk-container-id-1 label.sk-toggleable__label-arrow:before {content: \"▸\";float: left;margin-right: 0.25em;color: #696969;}#sk-container-id-1 label.sk-toggleable__label-arrow:hover:before {color: black;}#sk-container-id-1 div.sk-estimator:hover label.sk-toggleable__label-arrow:before {color: black;}#sk-container-id-1 div.sk-toggleable__content {max-height: 0;max-width: 0;overflow: hidden;text-align: left;background-color: #f0f8ff;}#sk-container-id-1 div.sk-toggleable__content pre {margin: 0.2em;color: black;border-radius: 0.25em;background-color: #f0f8ff;}#sk-container-id-1 input.sk-toggleable__control:checked~div.sk-toggleable__content {max-height: 200px;max-width: 100%;overflow: auto;}#sk-container-id-1 input.sk-toggleable__control:checked~label.sk-toggleable__label-arrow:before {content: \"▾\";}#sk-container-id-1 div.sk-estimator input.sk-toggleable__control:checked~label.sk-toggleable__label {background-color: #d4ebff;}#sk-container-id-1 div.sk-label input.sk-toggleable__control:checked~label.sk-toggleable__label {background-color: #d4ebff;}#sk-container-id-1 input.sk-hidden--visually {border: 0;clip: rect(1px 1px 1px 1px);clip: rect(1px, 1px, 1px, 1px);height: 1px;margin: -1px;overflow: hidden;padding: 0;position: absolute;width: 1px;}#sk-container-id-1 div.sk-estimator {font-family: monospace;background-color: #f0f8ff;border: 1px dotted black;border-radius: 0.25em;box-sizing: border-box;margin-bottom: 0.5em;}#sk-container-id-1 div.sk-estimator:hover {background-color: #d4ebff;}#sk-container-id-1 div.sk-parallel-item::after {content: \"\";width: 100%;border-bottom: 1px solid gray;flex-grow: 1;}#sk-container-id-1 div.sk-label:hover label.sk-toggleable__label {background-color: #d4ebff;}#sk-container-id-1 div.sk-serial::before {content: \"\";position: absolute;border-left: 1px solid gray;box-sizing: border-box;top: 0;bottom: 0;left: 50%;z-index: 0;}#sk-container-id-1 div.sk-serial {display: flex;flex-direction: column;align-items: center;background-color: white;padding-right: 0.2em;padding-left: 0.2em;position: relative;}#sk-container-id-1 div.sk-item {position: relative;z-index: 1;}#sk-container-id-1 div.sk-parallel {display: flex;align-items: stretch;justify-content: center;background-color: white;position: relative;}#sk-container-id-1 div.sk-item::before, #sk-container-id-1 div.sk-parallel-item::before {content: \"\";position: absolute;border-left: 1px solid gray;box-sizing: border-box;top: 0;bottom: 0;left: 50%;z-index: -1;}#sk-container-id-1 div.sk-parallel-item {display: flex;flex-direction: column;z-index: 1;position: relative;background-color: white;}#sk-container-id-1 div.sk-parallel-item:first-child::after {align-self: flex-end;width: 50%;}#sk-container-id-1 div.sk-parallel-item:last-child::after {align-self: flex-start;width: 50%;}#sk-container-id-1 div.sk-parallel-item:only-child::after {width: 0;}#sk-container-id-1 div.sk-dashed-wrapped {border: 1px dashed gray;margin: 0 0.4em 0.5em 0.4em;box-sizing: border-box;padding-bottom: 0.4em;background-color: white;}#sk-container-id-1 div.sk-label label {font-family: monospace;font-weight: bold;display: inline-block;line-height: 1.2em;}#sk-container-id-1 div.sk-label-container {text-align: center;}#sk-container-id-1 div.sk-container {/* jupyter's `normalize.less` sets `[hidden] { display: none; }` but bootstrap.min.css set `[hidden] { display: none !important; }` so we also need the `!important` here to be able to override the default hidden behavior on the sphinx rendered scikit-learn.org. See: https://github.com/scikit-learn/scikit-learn/issues/21755 */display: inline-block !important;position: relative;}#sk-container-id-1 div.sk-text-repr-fallback {display: none;}</style><div id=\"sk-container-id-1\" class=\"sk-top-container\"><div class=\"sk-text-repr-fallback\"><pre>VotingClassifier(estimators=[(&#x27;svm&#x27;,\n",
       "                              SVC(gamma=1.0, kernel=&#x27;sigmoid&#x27;,\n",
       "                                  probability=True)),\n",
       "                             (&#x27;nb&#x27;, MultinomialNB()),\n",
       "                             (&#x27;et&#x27;,\n",
       "                              ExtraTreesClassifier(n_estimators=50,\n",
       "                                                   random_state=2))],\n",
       "                 voting=&#x27;soft&#x27;)</pre><b>In a Jupyter environment, please rerun this cell to show the HTML representation or trust the notebook. <br />On GitHub, the HTML representation is unable to render, please try loading this page with nbviewer.org.</b></div><div class=\"sk-container\" hidden><div class=\"sk-item sk-dashed-wrapped\"><div class=\"sk-label-container\"><div class=\"sk-label sk-toggleable\"><input class=\"sk-toggleable__control sk-hidden--visually\" id=\"sk-estimator-id-1\" type=\"checkbox\" ><label for=\"sk-estimator-id-1\" class=\"sk-toggleable__label sk-toggleable__label-arrow\">VotingClassifier</label><div class=\"sk-toggleable__content\"><pre>VotingClassifier(estimators=[(&#x27;svm&#x27;,\n",
       "                              SVC(gamma=1.0, kernel=&#x27;sigmoid&#x27;,\n",
       "                                  probability=True)),\n",
       "                             (&#x27;nb&#x27;, MultinomialNB()),\n",
       "                             (&#x27;et&#x27;,\n",
       "                              ExtraTreesClassifier(n_estimators=50,\n",
       "                                                   random_state=2))],\n",
       "                 voting=&#x27;soft&#x27;)</pre></div></div></div><div class=\"sk-parallel\"><div class=\"sk-parallel-item\"><div class=\"sk-item\"><div class=\"sk-label-container\"><div class=\"sk-label sk-toggleable\"><label>svm</label></div></div><div class=\"sk-serial\"><div class=\"sk-item\"><div class=\"sk-estimator sk-toggleable\"><input class=\"sk-toggleable__control sk-hidden--visually\" id=\"sk-estimator-id-2\" type=\"checkbox\" ><label for=\"sk-estimator-id-2\" class=\"sk-toggleable__label sk-toggleable__label-arrow\">SVC</label><div class=\"sk-toggleable__content\"><pre>SVC(gamma=1.0, kernel=&#x27;sigmoid&#x27;, probability=True)</pre></div></div></div></div></div></div><div class=\"sk-parallel-item\"><div class=\"sk-item\"><div class=\"sk-label-container\"><div class=\"sk-label sk-toggleable\"><label>nb</label></div></div><div class=\"sk-serial\"><div class=\"sk-item\"><div class=\"sk-estimator sk-toggleable\"><input class=\"sk-toggleable__control sk-hidden--visually\" id=\"sk-estimator-id-3\" type=\"checkbox\" ><label for=\"sk-estimator-id-3\" class=\"sk-toggleable__label sk-toggleable__label-arrow\">MultinomialNB</label><div class=\"sk-toggleable__content\"><pre>MultinomialNB()</pre></div></div></div></div></div></div><div class=\"sk-parallel-item\"><div class=\"sk-item\"><div class=\"sk-label-container\"><div class=\"sk-label sk-toggleable\"><label>et</label></div></div><div class=\"sk-serial\"><div class=\"sk-item\"><div class=\"sk-estimator sk-toggleable\"><input class=\"sk-toggleable__control sk-hidden--visually\" id=\"sk-estimator-id-4\" type=\"checkbox\" ><label for=\"sk-estimator-id-4\" class=\"sk-toggleable__label sk-toggleable__label-arrow\">ExtraTreesClassifier</label><div class=\"sk-toggleable__content\"><pre>ExtraTreesClassifier(n_estimators=50, random_state=2)</pre></div></div></div></div></div></div></div></div></div></div>"
      ],
      "text/plain": [
       "VotingClassifier(estimators=[('svm',\n",
       "                              SVC(gamma=1.0, kernel='sigmoid',\n",
       "                                  probability=True)),\n",
       "                             ('nb', MultinomialNB()),\n",
       "                             ('et',\n",
       "                              ExtraTreesClassifier(n_estimators=50,\n",
       "                                                   random_state=2))],\n",
       "                 voting='soft')"
      ]
     },
     "execution_count": 98,
     "metadata": {},
     "output_type": "execute_result"
    }
   ],
   "source": [
    "voting.fit(X_train,y_train)\n"
   ]
  },
  {
   "cell_type": "code",
   "execution_count": 99,
   "id": "915fa200",
   "metadata": {},
   "outputs": [
    {
     "name": "stdout",
     "output_type": "stream",
     "text": [
      "Accuracy 0.9722222222222222\n",
      "Precision 0.9826235093696764\n"
     ]
    }
   ],
   "source": [
    "y_pred = voting.predict(X_test)\n",
    "print(\"Accuracy\",accuracy_score(y_test,y_pred))\n",
    "print(\"Precision\",precision_score(y_test,y_pred))"
   ]
  },
  {
   "cell_type": "code",
   "execution_count": 100,
   "id": "cfd5523f",
   "metadata": {},
   "outputs": [],
   "source": [
    "# Applying stacking\n",
    "estimators=[('svm', svc), ('nb', mnb), ('et', etc)]\n",
    "final_estimator=RandomForestClassifier()"
   ]
  },
  {
   "cell_type": "code",
   "execution_count": 101,
   "id": "8ef144a9",
   "metadata": {},
   "outputs": [],
   "source": [
    "from sklearn.ensemble import StackingClassifier\n"
   ]
  },
  {
   "cell_type": "code",
   "execution_count": 102,
   "id": "111960d6",
   "metadata": {},
   "outputs": [],
   "source": [
    "clf = StackingClassifier(estimators=estimators, final_estimator=final_estimator)\n"
   ]
  },
  {
   "cell_type": "code",
   "execution_count": 103,
   "id": "a9326db5",
   "metadata": {},
   "outputs": [
    {
     "name": "stdout",
     "output_type": "stream",
     "text": [
      "Accuracy 0.9881481481481481\n",
      "Precision 0.9863378873708764\n"
     ]
    }
   ],
   "source": [
    "clf.fit(X_train,y_train)\n",
    "y_pred = clf.predict(X_test)\n",
    "print(\"Accuracy\",accuracy_score(y_test,y_pred))\n",
    "print(\"Precision\",precision_score(y_test,y_pred))"
   ]
  },
  {
   "cell_type": "code",
   "execution_count": 104,
   "id": "eea22401",
   "metadata": {},
   "outputs": [],
   "source": [
    "import pickle\n",
    "pickle.dump(tfidf,open('vectorizer.pkl','wb'))\n",
    "pickle.dump(mnb,open('model.pkl','wb'))"
   ]
  },
  {
   "cell_type": "code",
   "execution_count": null,
   "id": "86161d27",
   "metadata": {},
   "outputs": [],
   "source": []
  }
 ],
 "metadata": {
  "kernelspec": {
   "display_name": "Python 3 (ipykernel)",
   "language": "python",
   "name": "python3"
  },
  "language_info": {
   "codemirror_mode": {
    "name": "ipython",
    "version": 3
   },
   "file_extension": ".py",
   "mimetype": "text/x-python",
   "name": "python",
   "nbconvert_exporter": "python",
   "pygments_lexer": "ipython3",
   "version": "3.11.5"
  }
 },
 "nbformat": 4,
 "nbformat_minor": 5
}
